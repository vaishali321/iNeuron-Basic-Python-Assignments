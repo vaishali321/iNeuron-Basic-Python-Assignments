{
 "cells": [
  {
   "cell_type": "markdown",
   "id": "f2a1a683",
   "metadata": {},
   "source": [
    "# Write a program that calculates and prints the value according to the given formula:\n",
    "\n",
    "Q = Square root of [(2 * C * D)/H]\n",
    "\n",
    "Following are the fixed values of C and H:\n",
    "\n",
    "C is 50. H is 30.\n",
    "\n",
    "D is the variable whose values should be input to your program in a comma-separated sequence.\n"
   ]
  },
  {
   "cell_type": "code",
   "execution_count": 3,
   "id": "9d58d3fd",
   "metadata": {},
   "outputs": [
    {
     "name": "stdout",
     "output_type": "stream",
     "text": [
      "Provide D: 100,150,180\n",
      "[18, 22, 24]\n"
     ]
    }
   ],
   "source": [
    "import math\n",
    "\n",
    "input_no = input(\"Provide D: \")\n",
    "input_no = input_no.split(',')\n",
    "\n",
    "result = []\n",
    "for D in input_no:\n",
    "    Q = round(math.sqrt(2 * 50 * int(D) / 30))\n",
    "    result.append(Q)\n",
    "\n",
    "print(result)"
   ]
  },
  {
   "cell_type": "markdown",
   "id": "c4d5c167",
   "metadata": {},
   "source": [
    "# Write a program which takes 2 digits, X,Y as input and generates a 2-dimensional array. The element value in the i-th row and j-th column of the array should be i*j.\n",
    "\n",
    "Note: i=0,1.., X-1; j=0,1,¡¬Y-1.\n"
   ]
  },
  {
   "cell_type": "code",
   "execution_count": 7,
   "id": "43531c63",
   "metadata": {},
   "outputs": [
    {
     "name": "stdout",
     "output_type": "stream",
     "text": [
      "Row:3\n",
      "Column:3\n",
      "[[0, 0, 0], [0, 1, 2], [0, 2, 4]]\n"
     ]
    }
   ],
   "source": [
    "A=int(input(\"Row:\"))\n",
    "B=int(input(\"Column:\"))\n",
    "matrix=[[0 for col in range(B)] for row in range(A)]\n",
    "for row in range(A):\n",
    "    for col in range(B):\n",
    "        matrix[row][col]=row*col\n",
    "print(matrix)\n"
   ]
  },
  {
   "cell_type": "markdown",
   "id": "1056de6f",
   "metadata": {},
   "source": [
    "# Write a program that accepts a comma separated sequence of words as input and prints the words in a comma-separated sequence after sorting them alphabetically."
   ]
  },
  {
   "cell_type": "code",
   "execution_count": 8,
   "id": "318e9606",
   "metadata": {},
   "outputs": [
    {
     "name": "stdout",
     "output_type": "stream",
     "text": [
      "Enter the Input words: hello,world,bag,area\n",
      "area, bag, hello, world\n"
     ]
    }
   ],
   "source": [
    "input_words = input(\" \")\n",
    "Enter the Input words:\n",
    "input_words_list = input_words.split(\",\")\n",
    "input_words_list.sort()\n",
    "print((', ').join(input_words_list))"
   ]
  },
  {
   "cell_type": "markdown",
   "id": "226b2672",
   "metadata": {},
   "source": [
    "# Write a program that accepts a sequence of whitespace separated words as input and prints the words after removing all duplicate words and sorting them alphanumerically."
   ]
  },
  {
   "cell_type": "code",
   "execution_count": 10,
   "id": "800e5358",
   "metadata": {},
   "outputs": [
    {
     "name": "stdout",
     "output_type": "stream",
     "text": [
      "Enter the Input words: hello world and practice makes perfect and hello world again\n",
      "again and hello makes perfect practice world\n"
     ]
    }
   ],
   "source": [
    "input_words = input(\"Enter the Input words: \")\n",
    "input_words_splited = input_words.split(' ')\n",
    "\n",
    "input_words_list = []\n",
    "for i in input_words_splited:\n",
    "    if i not in input_words_list:\n",
    "        input_words_list.append(i)\n",
    "    else:\n",
    "        continue\n",
    "input_words_list.sort()\n",
    "print((' ').join(input_words_list))"
   ]
  },
  {
   "cell_type": "markdown",
   "id": "0b0a70ed",
   "metadata": {},
   "source": [
    "# A website requires the users to input username and password to register. Write a program to check the validity of password input by users.\n",
    "\n",
    "Following are the criteria for checking the password:\n",
    "\n",
    "1. At least 1 letter between [a-z]\n",
    "\n",
    "2. At least 1 number between [0-9]\n",
    "\n",
    "1. At least 1 letter between [A-Z]\n",
    "\n",
    "3. At least 1 character from [$#@]\n",
    "\n",
    "4. Minimum length of transaction password: 6\n",
    "\n",
    "5. Maximum length of transaction password: 12\n",
    "\n",
    "Your program should accept a sequence of comma separated passwords and will check them according to the above criteria. Passwords that match the criteria are to be printed, each separated by a comma.\n"
   ]
  },
  {
   "cell_type": "code",
   "execution_count": 12,
   "id": "402d5c88",
   "metadata": {},
   "outputs": [
    {
     "name": "stdout",
     "output_type": "stream",
     "text": [
      "Enter input passwords: ABd1234@1,a F1#,2w3E*,2We3345\n",
      "ABd1234@1\n"
     ]
    }
   ],
   "source": [
    "import re\n",
    "\n",
    "passwords = input(\"Enter input passwords: \")\n",
    "passwords = passwords.split(\",\")\n",
    "\n",
    "valid_passwords = []\n",
    "for i in passwords:\n",
    "    \n",
    "    if len(i) < 6 or len(i) > 12:\n",
    "        continue\n",
    "\n",
    "    elif not re.search(\"([a-z])+\", i):\n",
    "        continue\n",
    "\n",
    "    elif not re.search(\"([A-Z])+\", i):\n",
    "        continue\n",
    "\n",
    "    elif not re.search(\"([0-9])+\", i):\n",
    "        continue\n",
    "\n",
    "    elif not re.search(\"([!@$%^&])+\", i):\n",
    "        continue\n",
    "\n",
    "    else:\n",
    "        valid_passwords.append(i)\n",
    "\n",
    "print((\" \").join(valid_passwords))"
   ]
  }
 ],
 "metadata": {
  "anaconda-cloud": {},
  "kernelspec": {
   "display_name": "Python 3",
   "language": "python",
   "name": "python3"
  },
  "language_info": {
   "codemirror_mode": {
    "name": "ipython",
    "version": 3
   },
   "file_extension": ".py",
   "mimetype": "text/x-python",
   "name": "python",
   "nbconvert_exporter": "python",
   "pygments_lexer": "ipython3",
   "version": "3.8.8"
  }
 },
 "nbformat": 4,
 "nbformat_minor": 5
}
