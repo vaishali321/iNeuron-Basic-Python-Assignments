{
 "cells": [
  {
   "cell_type": "markdown",
   "id": "ce1b87f2",
   "metadata": {},
   "source": [
    "# 1.\tWrite a Python program to find words which are greater than given length k"
   ]
  },
  {
   "cell_type": "code",
   "execution_count": 4,
   "id": "7de82118",
   "metadata": {},
   "outputs": [
    {
     "name": "stdout",
     "output_type": "stream",
     "text": [
      "The string is :\n",
      "India is my country\n",
      "\n",
      "The words in the string with length greater than 3 is :\n",
      "['India', 'country']\n"
     ]
    }
   ],
   "source": [
    "def str_check(str_length, new_string):\n",
    "   res_str = []\n",
    "   tuples = new_string.split(\" \")\n",
    "   for i in tuples:\n",
    "      if len(i) > str_length:\n",
    "         res_str.append(i)\n",
    "   return res_str\n",
    "str_length = 3\n",
    "new_string =\"India is my country\"\n",
    "\n",
    "print(\"The string is :\")\n",
    "print(new_string)\n",
    "print (\"\\nThe words in the string with length greater than\" , str_length , \"is :\")\n",
    "print(str_check(str_length, new_string))"
   ]
  },
  {
   "cell_type": "markdown",
   "id": "bca598eb",
   "metadata": {},
   "source": [
    "# 2.\tWrite a Python program for removing i-th character from a string"
   ]
  },
  {
   "cell_type": "code",
   "execution_count": 7,
   "id": "7c4567a9",
   "metadata": {},
   "outputs": [
    {
     "name": "stdout",
     "output_type": "stream",
     "text": [
      "Contry\n"
     ]
    }
   ],
   "source": [
    "string=\"Country\"\n",
    "i=2\n",
    "str = string.replace(string[i], \"\", 1)\n",
    "print(str)"
   ]
  },
  {
   "cell_type": "markdown",
   "id": "f1baebcb",
   "metadata": {},
   "source": [
    "# 3.\tWrite a Python program to split and join a string"
   ]
  },
  {
   "cell_type": "code",
   "execution_count": 12,
   "id": "f6e5d3e8",
   "metadata": {},
   "outputs": [
    {
     "name": "stdout",
     "output_type": "stream",
     "text": [
      "['ButterFly', 'is', 'colourfull']\n",
      "ButterFly-is-colourfull\n"
     ]
    }
   ],
   "source": [
    "string1=\"ButterFly is colourfull\"\n",
    "string_new=string1.split()\n",
    "print(string_new)\n",
    "string_join='-'.join(string_new)\n",
    "print(string_join)"
   ]
  },
  {
   "cell_type": "markdown",
   "id": "d6721885",
   "metadata": {},
   "source": [
    "# 4.\tWrite a Python to check if a given string is binary string or not"
   ]
  },
  {
   "cell_type": "code",
   "execution_count": 14,
   "id": "08c82cfe",
   "metadata": {},
   "outputs": [
    {
     "name": "stdout",
     "output_type": "stream",
     "text": [
      "Yes\n"
     ]
    }
   ],
   "source": [
    "import re\n",
    " \n",
    "string = \"1101010010\"\n",
    "c = re.compile('[^01]')\n",
    "if(len(c.findall(string))):\n",
    "    print(\"No\") # if length of list > 0 then it is not binary\n",
    "else:\n",
    "    print(\"Yes\") # if length of list = 0 then it is binary"
   ]
  },
  {
   "cell_type": "markdown",
   "id": "d49f86d8",
   "metadata": {},
   "source": [
    "# 5.\tWrite a Python program to find uncommon words from two Strings"
   ]
  },
  {
   "cell_type": "code",
   "execution_count": 19,
   "id": "144d5d65",
   "metadata": {},
   "outputs": [
    {
     "name": "stdout",
     "output_type": "stream",
     "text": [
      "['Blue', 'Green']\n"
     ]
    }
   ],
   "source": [
    "def uncommon(str1,str2):\n",
    "  str1=str1.split()\n",
    "  str2=str2.split()\n",
    "  k=set(str1).symmetric_difference(set(str2))\n",
    "  return k\n",
    "  \n",
    "\n",
    "str1=\"Red Yellow Blue\" \n",
    "str2=\"Yellow Green Red\"\n",
    "print(list(uncommon(str1,str2)))"
   ]
  },
  {
   "cell_type": "markdown",
   "id": "7b4a5942",
   "metadata": {},
   "source": [
    "# 6.\tWrite a Python to find all duplicate characters in string"
   ]
  },
  {
   "cell_type": "code",
   "execution_count": 21,
   "id": "09cffdc5",
   "metadata": {},
   "outputs": [],
   "source": []
  },
  {
   "cell_type": "markdown",
   "id": "364d341c",
   "metadata": {},
   "source": [
    "# 7.\tWrite a Python Program to check if a string contains any special character"
   ]
  },
  {
   "cell_type": "code",
   "execution_count": 26,
   "id": "d19b6f9c",
   "metadata": {},
   "outputs": [
    {
     "name": "stdout",
     "output_type": "stream",
     "text": [
      "String is not accepted.\n"
     ]
    }
   ],
   "source": [
    "import re\n",
    "regexp = re.compile('[@_!#$%^&*()<>?/\\|}{~:]')\n",
    "string=\"vaishali@123\"\n",
    "if(regexp.search(string) == None):\n",
    "        print(\"String is accepted\")\n",
    "          \n",
    "else:\n",
    "        print(\"String is not accepted.\")\n",
    "    "
   ]
  },
  {
   "cell_type": "code",
   "execution_count": null,
   "id": "f65f69ca",
   "metadata": {},
   "outputs": [],
   "source": []
  }
 ],
 "metadata": {
  "anaconda-cloud": {},
  "kernelspec": {
   "display_name": "Python 3",
   "language": "python",
   "name": "python3"
  },
  "language_info": {
   "codemirror_mode": {
    "name": "ipython",
    "version": 3
   },
   "file_extension": ".py",
   "mimetype": "text/x-python",
   "name": "python",
   "nbconvert_exporter": "python",
   "pygments_lexer": "ipython3",
   "version": "3.8.8"
  }
 },
 "nbformat": 4,
 "nbformat_minor": 5
}
