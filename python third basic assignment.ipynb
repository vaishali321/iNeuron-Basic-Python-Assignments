{
 "cells": [
  {
   "cell_type": "markdown",
   "id": "c8e3fbe7",
   "metadata": {},
   "source": [
    "# 1.\tWrite a Python Program to Check if a Number is Positive, Negative or Zero"
   ]
  },
  {
   "cell_type": "code",
   "execution_count": 3,
   "id": "9a5b44a8",
   "metadata": {},
   "outputs": [
    {
     "name": "stdout",
     "output_type": "stream",
     "text": [
      "Enter a random number: -4\n",
      "Number is Negative \n"
     ]
    }
   ],
   "source": [
    "number = float(input(\"Enter a random number: \"))\n",
    "if number >= 0:\n",
    "   if number == 0:\n",
    "       print(\"Number is Zero\")\n",
    "   else:\n",
    "       print(\"Number is Positive\")\n",
    "else:\n",
    "   print(\"Number is Negative \")"
   ]
  },
  {
   "cell_type": "markdown",
   "id": "9d210f94",
   "metadata": {},
   "source": [
    "# 2.\tWrite a Python Program to Check if a Number is Odd or Even"
   ]
  },
  {
   "cell_type": "code",
   "execution_count": 7,
   "id": "04902283",
   "metadata": {},
   "outputs": [
    {
     "name": "stdout",
     "output_type": "stream",
     "text": [
      "Enter a random number: 11\n",
      "The number is odd\n"
     ]
    }
   ],
   "source": [
    "number = float(input(\"Enter a random number: \"))\n",
    "if (number%2)==0:\n",
    "    print(\"The number is even\")\n",
    "else:\n",
    "    print(\"The number is odd\")"
   ]
  },
  {
   "cell_type": "markdown",
   "id": "3625709f",
   "metadata": {},
   "source": [
    "# 3.\tWrite a Python Program to Check Leap Year"
   ]
  },
  {
   "cell_type": "code",
   "execution_count": 4,
   "id": "aa3ce165",
   "metadata": {},
   "outputs": [
    {
     "name": "stdout",
     "output_type": "stream",
     "text": [
      "Enter the Year:2023\n",
      "2023 is not a leap year\n"
     ]
    }
   ],
   "source": [
    "year=int(input(\"Enter the Year:\"))\n",
    "if (year % 4) == 0:\n",
    "   if (year % 100) == 0:\n",
    "       if (year % 400) == 0:\n",
    "           print(\"{0} is a leap year\".format(year))\n",
    "       else:\n",
    "           print(\"{0} is not a leap year\".format(year))\n",
    "   else:\n",
    "       print(\"{0} is a leap year\".format(year))\n",
    "else:\n",
    "   print(\"{0} is not a leap year\".format(year))         "
   ]
  },
  {
   "cell_type": "markdown",
   "id": "3ded553d",
   "metadata": {},
   "source": [
    "# 4.\tWrite a Python Program to Check Prime Number"
   ]
  },
  {
   "cell_type": "code",
   "execution_count": 7,
   "id": "068912ae",
   "metadata": {},
   "outputs": [
    {
     "name": "stdout",
     "output_type": "stream",
     "text": [
      "Enter the number: 2\n",
      "2 It is a Prime number\n"
     ]
    }
   ],
   "source": [
    "\n",
    "number = int(input(\"Enter the number: \"))\n",
    "\n",
    "# defining a flag variable and setting it to false\n",
    "flag = False\n",
    "\n",
    "# prime numbers are greater than 1\n",
    "if number > 1:\n",
    "    # check for factors\n",
    "    for i in range(2, number):\n",
    "        if (number % i) == 0:\n",
    "            # if factor is found, set flag to True\n",
    "            flag = True\n",
    "            # break out of loop\n",
    "            break\n",
    "\n",
    "if flag:\n",
    "    print(number, \"It is not a Prime number\")\n",
    "else:\n",
    "    print(number, \"It is a Prime number\")"
   ]
  },
  {
   "cell_type": "markdown",
   "id": "3d9d1772",
   "metadata": {},
   "source": [
    "# 5.\tWrite a Python Program to Print all Prime Numbers in an Interval of 1-10000"
   ]
  },
  {
   "cell_type": "code",
   "execution_count": 10,
   "id": "fcdae634",
   "metadata": {},
   "outputs": [
    {
     "name": "stdout",
     "output_type": "stream",
     "text": [
      "Prime numbers between 1 and 1000 are:\n",
      "2\n",
      "3\n",
      "5\n",
      "7\n",
      "11\n",
      "13\n",
      "17\n",
      "19\n",
      "23\n",
      "29\n",
      "31\n",
      "37\n",
      "41\n",
      "43\n",
      "47\n",
      "53\n",
      "59\n",
      "61\n",
      "67\n",
      "71\n",
      "73\n",
      "79\n",
      "83\n",
      "89\n",
      "97\n",
      "101\n",
      "103\n",
      "107\n",
      "109\n",
      "113\n",
      "127\n",
      "131\n",
      "137\n",
      "139\n",
      "149\n",
      "151\n",
      "157\n",
      "163\n",
      "167\n",
      "173\n",
      "179\n",
      "181\n",
      "191\n",
      "193\n",
      "197\n",
      "199\n",
      "211\n",
      "223\n",
      "227\n",
      "229\n",
      "233\n",
      "239\n",
      "241\n",
      "251\n",
      "257\n",
      "263\n",
      "269\n",
      "271\n",
      "277\n",
      "281\n",
      "283\n",
      "293\n",
      "307\n",
      "311\n",
      "313\n",
      "317\n",
      "331\n",
      "337\n",
      "347\n",
      "349\n",
      "353\n",
      "359\n",
      "367\n",
      "373\n",
      "379\n",
      "383\n",
      "389\n",
      "397\n",
      "401\n",
      "409\n",
      "419\n",
      "421\n",
      "431\n",
      "433\n",
      "439\n",
      "443\n",
      "449\n",
      "457\n",
      "461\n",
      "463\n",
      "467\n",
      "479\n",
      "487\n",
      "491\n",
      "499\n",
      "503\n",
      "509\n",
      "521\n",
      "523\n",
      "541\n",
      "547\n",
      "557\n",
      "563\n",
      "569\n",
      "571\n",
      "577\n",
      "587\n",
      "593\n",
      "599\n",
      "601\n",
      "607\n",
      "613\n",
      "617\n",
      "619\n",
      "631\n",
      "641\n",
      "643\n",
      "647\n",
      "653\n",
      "659\n",
      "661\n",
      "673\n",
      "677\n",
      "683\n",
      "691\n",
      "701\n",
      "709\n",
      "719\n",
      "727\n",
      "733\n",
      "739\n",
      "743\n",
      "751\n",
      "757\n",
      "761\n",
      "769\n",
      "773\n",
      "787\n",
      "797\n",
      "809\n",
      "811\n",
      "821\n",
      "823\n",
      "827\n",
      "829\n",
      "839\n",
      "853\n",
      "857\n",
      "859\n",
      "863\n",
      "877\n",
      "881\n",
      "883\n",
      "887\n",
      "907\n",
      "911\n",
      "919\n",
      "929\n",
      "937\n",
      "941\n",
      "947\n",
      "953\n",
      "967\n",
      "971\n",
      "977\n",
      "983\n",
      "991\n",
      "997\n"
     ]
    }
   ],
   "source": [
    "minimum = 1\n",
    "maximum = 1000\n",
    "\n",
    "print(\"Prime numbers between\", minimum, \"and\", maximum, \"are:\")\n",
    "\n",
    "for number in range(minimum, maximum + 1):\n",
    "  \n",
    "   if number > 1:\n",
    "       for i in range(2, number):\n",
    "           if (number % i) == 0:\n",
    "               break\n",
    "       else:\n",
    "           print(number)"
   ]
  },
  {
   "cell_type": "code",
   "execution_count": null,
   "id": "55e9f319",
   "metadata": {},
   "outputs": [],
   "source": []
  }
 ],
 "metadata": {
  "anaconda-cloud": {},
  "kernelspec": {
   "display_name": "Python 3",
   "language": "python",
   "name": "python3"
  },
  "language_info": {
   "codemirror_mode": {
    "name": "ipython",
    "version": 3
   },
   "file_extension": ".py",
   "mimetype": "text/x-python",
   "name": "python",
   "nbconvert_exporter": "python",
   "pygments_lexer": "ipython3",
   "version": "3.8.8"
  }
 },
 "nbformat": 4,
 "nbformat_minor": 5
}
