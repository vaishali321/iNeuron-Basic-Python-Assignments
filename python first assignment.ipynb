{
 "cells": [
  {
   "cell_type": "markdown",
   "id": "742b3eeb",
   "metadata": {},
   "source": [
    "# 1.\tWrite a Python program to print \"Hello Python\""
   ]
  },
  {
   "cell_type": "code",
   "execution_count": 3,
   "id": "f5f37b48",
   "metadata": {},
   "outputs": [
    {
     "name": "stdout",
     "output_type": "stream",
     "text": [
      "Hello Python\n"
     ]
    }
   ],
   "source": [
    "print(\"Hello Python\")"
   ]
  },
  {
   "cell_type": "markdown",
   "id": "fb697cd6",
   "metadata": {},
   "source": [
    "# 2.\tWrite a Python program to do arithmetical operations addition and division"
   ]
  },
  {
   "cell_type": "code",
   "execution_count": 7,
   "id": "d6094acf",
   "metadata": {},
   "outputs": [
    {
     "name": "stdout",
     "output_type": "stream",
     "text": [
      "The addition is 15\n",
      "The Division is  2.0\n"
     ]
    }
   ],
   "source": [
    "a=10\n",
    "b=5\n",
    "print(\"The addition is\",a+b)\n",
    "print(\"The Division is \",a/b)\n"
   ]
  },
  {
   "cell_type": "markdown",
   "id": "af0b2d93",
   "metadata": {},
   "source": [
    "# 3.\tWrite a Python program to find the area of a triangle?"
   ]
  },
  {
   "cell_type": "code",
   "execution_count": 11,
   "id": "72d5a350",
   "metadata": {},
   "outputs": [
    {
     "name": "stdout",
     "output_type": "stream",
     "text": [
      "Enter the length of first side of a triangle5\n",
      "Enter the length of first side of a triangle6\n",
      "Enter the length of first side of a triangle7\n",
      "The area of a Triangle is 14.696938456699069\n"
     ]
    }
   ],
   "source": [
    "import numpy as np\n",
    "\n",
    "x=int(input(\"Enter the length of first side of a triangle\"))\n",
    "y=int(input(\"Enter the length of first side of a triangle\"))\n",
    "z=int(input(\"Enter the length of first side of a triangle\"))\n",
    "\n",
    "#Calculate the value of semi-perimter\n",
    "\n",
    "sp= (x+y+z) / 2\n",
    "# calculate the area  \n",
    "\n",
    "area= (sp *(sp-x)*(sp-y)*(sp-z)) **0.5\n",
    "print(\"The area of a Triangle is\" , area)"
   ]
  },
  {
   "cell_type": "markdown",
   "id": "7c15eb52",
   "metadata": {},
   "source": [
    "# 4.\tWrite a Python program to swap two variables?"
   ]
  },
  {
   "cell_type": "code",
   "execution_count": 13,
   "id": "020d2ee7",
   "metadata": {},
   "outputs": [
    {
     "name": "stdout",
     "output_type": "stream",
     "text": [
      "The values of a and b before swapping 6 7\n",
      "The values of a and b after swapping 7 6\n"
     ]
    }
   ],
   "source": [
    "a=6\n",
    "b=7\n",
    "print(\"The values of a and b before swapping\",a,b)\n",
    "c=a\n",
    "a=b\n",
    "b=c\n",
    "print(\"The values of a and b after swapping\",a,b)"
   ]
  },
  {
   "cell_type": "markdown",
   "id": "ab3816e1",
   "metadata": {},
   "source": [
    "# 5.\tWrite a Python program to generate a random number"
   ]
  },
  {
   "cell_type": "code",
   "execution_count": 16,
   "id": "8c28a74b",
   "metadata": {},
   "outputs": [
    {
     "name": "stdout",
     "output_type": "stream",
     "text": [
      "8\n"
     ]
    }
   ],
   "source": [
    "import random\n",
    "r_no = random.randint(0,25)\n",
    "print(r_no)"
   ]
  }
 ],
 "metadata": {
  "anaconda-cloud": {},
  "kernelspec": {
   "display_name": "Python 3",
   "language": "python",
   "name": "python3"
  },
  "language_info": {
   "codemirror_mode": {
    "name": "ipython",
    "version": 3
   },
   "file_extension": ".py",
   "mimetype": "text/x-python",
   "name": "python",
   "nbconvert_exporter": "python",
   "pygments_lexer": "ipython3",
   "version": "3.8.8"
  }
 },
 "nbformat": 4,
 "nbformat_minor": 5
}
