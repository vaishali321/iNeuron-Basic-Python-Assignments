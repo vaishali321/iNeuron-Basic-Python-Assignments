{
 "cells": [
  {
   "cell_type": "markdown",
   "id": "ecc84c58",
   "metadata": {},
   "source": [
    "# 1.\tWrite a Python program to check if the given number is a Disarium Number"
   ]
  },
  {
   "cell_type": "code",
   "execution_count": 1,
   "id": "ca5bbcf0",
   "metadata": {},
   "outputs": [
    {
     "name": "stdout",
     "output_type": "stream",
     "text": [
      "175 is a disarium number\n"
     ]
    }
   ],
   "source": [
    "def calc_length(n):    \n",
    "    length = 0;    \n",
    "    while(n != 0):    \n",
    "        length = length + 1  \n",
    "        n = n//10    \n",
    "    return length    \n",
    "     \n",
    "number = 175    \n",
    "rem = sum = 0    \n",
    "len = calc_length(number)    \n",
    "     \n",
    "#Makes a copy of the original number num    \n",
    "n = number\n",
    "     \n",
    "#Calculates the sum of digits powered with their respective position    \n",
    "while(number > 0):    \n",
    "    rem = number%10    \n",
    "    sum = sum + int(rem**len)  \n",
    "    number = number//10\n",
    "    len = len - 1    \n",
    "     \n",
    "#Checks whether the sum is equal to the number itself    \n",
    "if(sum == n):    \n",
    "    print(str(n) + \" is a disarium number\")    \n",
    "else:    \n",
    "    print(str(n) + \" is not a disarium number\")    "
   ]
  },
  {
   "cell_type": "markdown",
   "id": "54f03be1",
   "metadata": {},
   "source": [
    "# 2.\tWrite a Python program to print all disarium numbers between 1 to 100"
   ]
  },
  {
   "cell_type": "code",
   "execution_count": 4,
   "id": "272e762d",
   "metadata": {},
   "outputs": [
    {
     "name": "stdout",
     "output_type": "stream",
     "text": [
      "Disarium numbers between 1 and 100 are\n",
      "1\n",
      "2\n",
      "3\n",
      "4\n",
      "5\n",
      "6\n",
      "7\n",
      "8\n",
      "9\n",
      "89\n"
     ]
    }
   ],
   "source": [
    "def calcLength(n):    \n",
    "    length = 0    \n",
    "    while(n != 0):    \n",
    "        length = length + 1    \n",
    "        n = n//10    \n",
    "    return length    \n",
    "def sumDigits(number):    \n",
    "    rem = summ = 0   \n",
    "    len = calcLength(number)    \n",
    "        \n",
    "    while(number > 0):    \n",
    "        rem = number%10;    \n",
    "        summ = summ + (rem**len)  \n",
    "        number = number//10   \n",
    "        len = len - 1    \n",
    "    return summ    \n",
    "      \n",
    "result = 0    \n",
    "     \n",
    "def calcLength(n):    \n",
    "    length = 0    \n",
    "    while(n != 0):    \n",
    "        length = length + 1    \n",
    "        n = n//10    \n",
    "    return length    \n",
    "print(\"Disarium numbers between 1 and 100 are\")  \n",
    "for i in range(1, 101):    \n",
    "    result = sumDigits(i)    \n",
    "        \n",
    "    if(result == i):    \n",
    "        print(i)    "
   ]
  },
  {
   "cell_type": "markdown",
   "id": "63e8f11e",
   "metadata": {},
   "source": [
    "# 3.\tWrite a Python program to check if the given number is Happy Number"
   ]
  },
  {
   "cell_type": "code",
   "execution_count": 5,
   "id": "8e49c507",
   "metadata": {},
   "outputs": [
    {
     "name": "stdout",
     "output_type": "stream",
     "text": [
      "82 is a happy number\n"
     ]
    }
   ],
   "source": [
    "def isHappyNum(number):    \n",
    "    rem = summation = 0    \n",
    "        \n",
    "    #Calculates the sum of squares of digits    \n",
    "    while(number > 0):    \n",
    "        rem = number%10    \n",
    "        summation = summation + (rem*rem)    \n",
    "        number = number//10   \n",
    "    return summation    \n",
    "        \n",
    "number = 82    \n",
    "result = number    \n",
    "     \n",
    "while(result != 1 and result != 4):    \n",
    "    result = isHappyNum(result)    \n",
    "     \n",
    "    \n",
    "if(result == 1):    \n",
    "    print(str(number) + \" is a happy number\")   \n",
    "  \n",
    "elif(result == 4):    \n",
    "    print(str(number) + \" is not a happy number\")  "
   ]
  },
  {
   "cell_type": "markdown",
   "id": "ead4a73e",
   "metadata": {},
   "source": [
    "# 4.\tWrite a Python program to print all happy numbers between 1 and 100"
   ]
  },
  {
   "cell_type": "code",
   "execution_count": 8,
   "id": "282ff839",
   "metadata": {},
   "outputs": [
    {
     "name": "stdout",
     "output_type": "stream",
     "text": [
      "List of happy numbers between 1 and 100: \n",
      "1\n",
      " \n",
      "7\n",
      " \n",
      "10\n",
      " \n",
      "13\n",
      " \n",
      "19\n",
      " \n",
      "23\n",
      " \n",
      "28\n",
      " \n",
      "31\n",
      " \n",
      "32\n",
      " \n",
      "44\n",
      " \n",
      "49\n",
      " \n",
      "68\n",
      " \n",
      "70\n",
      " \n",
      "79\n",
      " \n",
      "82\n",
      " \n",
      "86\n",
      " \n",
      "91\n",
      " \n",
      "94\n",
      " \n",
      "97\n",
      " \n",
      "100\n",
      " \n"
     ]
    }
   ],
   "source": [
    "def isHappyNum(number):  \n",
    "    rem = summation = 0  \n",
    "      \n",
    "    #Calculates the sum of squares of digits  \n",
    "    while(number > 0):  \n",
    "        rem = number%10;  \n",
    "        summation = summation + (rem*rem)  \n",
    "        number = number//10  \n",
    "    return summation  \n",
    "          \n",
    " \n",
    "print(\"List of happy numbers between 1 and 100: \")  \n",
    "for i in range(1, 101):  \n",
    "    result = i  \n",
    "      \n",
    "    \n",
    "    while(result != 1 and result != 4):  \n",
    "        result = isHappyNum(result);  \n",
    "      \n",
    "    if(result == 1):  \n",
    "        print(i)  \n",
    "        print(\" \")  "
   ]
  },
  {
   "cell_type": "markdown",
   "id": "41e4a070",
   "metadata": {},
   "source": [
    "# 5.\tWrite a Python program to determine whether the given number is a Harshad Number"
   ]
  },
  {
   "cell_type": "code",
   "execution_count": 10,
   "id": "5ae57ad0",
   "metadata": {},
   "outputs": [
    {
     "name": "stdout",
     "output_type": "stream",
     "text": [
      "120 is a harshad number\n"
     ]
    }
   ],
   "source": [
    "number = 120   \n",
    "rem = summation = 0   \n",
    "     \n",
    " \n",
    "n = number    \n",
    "     \n",
    "   \n",
    "while(number > 0):    \n",
    "    rem = number%10;    \n",
    "    summation = summation + rem;    \n",
    "    number = number//10;    \n",
    "     \n",
    "  \n",
    "if(n%summation == 0):    \n",
    "    print(str(n) + \" is a harshad number\");    \n",
    "else:    \n",
    "    print(str(n) + \" is not a harshad number\");    "
   ]
  },
  {
   "cell_type": "markdown",
   "id": "b0c218b5",
   "metadata": {},
   "source": [
    "# 6.\tWrite a Python program to print all pronic numbers between 1 and 100"
   ]
  },
  {
   "cell_type": "code",
   "execution_count": 11,
   "id": "41767857",
   "metadata": {},
   "outputs": [
    {
     "name": "stdout",
     "output_type": "stream",
     "text": [
      "Pronic numbers between 1 and 100: \n",
      "2\n",
      " \n",
      "6\n",
      " \n",
      "12\n",
      " \n",
      "20\n",
      " \n",
      "30\n",
      " \n",
      "42\n",
      " \n",
      "56\n",
      " \n",
      "72\n",
      " \n",
      "90\n",
      " \n"
     ]
    }
   ],
   "source": [
    "def isPronicNum(number):    \n",
    "    flag = False    \n",
    "        \n",
    "    for j in range(1, number+1):    \n",
    "         \n",
    "        if((j*(j+1)) == number):    \n",
    "            flag = True    \n",
    "            break    \n",
    "    return flag    \n",
    "     \n",
    "   \n",
    "print(\"Pronic numbers between 1 and 100: \")    \n",
    "for i in range(1, 101):    \n",
    "    if(isPronicNum(i)):    \n",
    "        print(i)    \n",
    "        print(\" \")    "
   ]
  }
 ],
 "metadata": {
  "anaconda-cloud": {},
  "kernelspec": {
   "display_name": "Python 3",
   "language": "python",
   "name": "python3"
  },
  "language_info": {
   "codemirror_mode": {
    "name": "ipython",
    "version": 3
   },
   "file_extension": ".py",
   "mimetype": "text/x-python",
   "name": "python",
   "nbconvert_exporter": "python",
   "pygments_lexer": "ipython3",
   "version": "3.8.8"
  }
 },
 "nbformat": 4,
 "nbformat_minor": 5
}
