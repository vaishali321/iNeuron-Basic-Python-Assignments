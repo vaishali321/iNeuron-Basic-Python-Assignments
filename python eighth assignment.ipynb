{
 "cells": [
  {
   "cell_type": "markdown",
   "id": "61eb29a2",
   "metadata": {},
   "source": [
    "# 1.\tWrite a Python Program to Add Two Matrices"
   ]
  },
  {
   "cell_type": "code",
   "execution_count": 2,
   "id": "99552232",
   "metadata": {},
   "outputs": [
    {
     "name": "stdout",
     "output_type": "stream",
     "text": [
      "[6, 8]\n",
      "[10, 12]\n"
     ]
    }
   ],
   "source": [
    "A = [[1,2],\n",
    "    [3 ,4]]\n",
    "    \n",
    "B= [[5,6],\n",
    "    [7,8]]   \n",
    " \n",
    "addition = [[0,0],\n",
    "        [0,0]]\n",
    "        \n",
    "for i in range(len(A)):  \n",
    "\n",
    "    for j in range(len(A[0])):\n",
    "        addition[i][j] = A[i][j] + B[i][j]\n",
    "for k in addition:\n",
    "    print(k)"
   ]
  },
  {
   "cell_type": "markdown",
   "id": "86c9491b",
   "metadata": {},
   "source": [
    "# 2.\tWrite a Python Program to Multiply Two Matrices"
   ]
  },
  {
   "cell_type": "code",
   "execution_count": 5,
   "id": "3946fac3",
   "metadata": {},
   "outputs": [
    {
     "name": "stdout",
     "output_type": "stream",
     "text": [
      "[19, 22]\n",
      "[43, 50]\n"
     ]
    }
   ],
   "source": [
    "A = [[1,2],\n",
    "    [3 ,4]]\n",
    "    \n",
    "B= [[5,6],\n",
    "    [7,8]]   \n",
    " \n",
    "multiplication = [[0,0],\n",
    "        [0,0]]\n",
    "for i in range(len(A)):\n",
    "   \n",
    "   for j in range(len(B[0])):\n",
    "       \n",
    "       for k in range(len(B)):\n",
    "             multiplication[i][j] += A[i][k] * B[k][j]\n",
    "\n",
    "for c in multiplication:\n",
    "    print(c)"
   ]
  },
  {
   "cell_type": "markdown",
   "id": "2231f8b0",
   "metadata": {},
   "source": [
    "# 3.\tWrite a Python Program to Transpose a Matrix"
   ]
  },
  {
   "cell_type": "code",
   "execution_count": 9,
   "id": "9b98450c",
   "metadata": {},
   "outputs": [
    {
     "name": "stdout",
     "output_type": "stream",
     "text": [
      "[1, 3]\n",
      "[2, 4]\n",
      "[5, 6]\n"
     ]
    }
   ],
   "source": [
    "A = [[1,2,5],\n",
    "    [3 ,4,6]]\n",
    "\n",
    "transpose=[[0,0],\n",
    "        [0,0],\n",
    "        [0,0]]   \n",
    "\n",
    "for i in range(len(A)):\n",
    "   \n",
    "   for j in range(len(A[0])):\n",
    "        transpose[j][i] = A[i][j]\n",
    "\n",
    "for k in transpose:\n",
    "    print(k)"
   ]
  },
  {
   "cell_type": "markdown",
   "id": "1f1e1322",
   "metadata": {},
   "source": [
    "# 4.\tWrite a Python Program to Sort Words in Alphabetic Order"
   ]
  },
  {
   "cell_type": "code",
   "execution_count": 10,
   "id": "6733ae06",
   "metadata": {},
   "outputs": [
    {
     "name": "stdout",
     "output_type": "stream",
     "text": [
      "Enter a string: I am a Girl\n",
      "The sorted words are:\n",
      "a\n",
      "am\n",
      "girl\n",
      "i\n"
     ]
    }
   ],
   "source": [
    "str = input(\"Enter a string: \")\n",
    "\n",
    "tuples = [tuples.lower() for tuples in str.split()]\n",
    "\n",
    "# sort the list\n",
    "tuples.sort()\n",
    "\n",
    "# display the sorted words\n",
    "\n",
    "print(\"The sorted words are:\")\n",
    "for tuples in tuples:\n",
    "    print(tuples)"
   ]
  },
  {
   "cell_type": "markdown",
   "id": "ab896033",
   "metadata": {},
   "source": [
    "# 5.\tWrite a Python Program to Remove Punctuation From a String"
   ]
  },
  {
   "cell_type": "code",
   "execution_count": 11,
   "id": "f7673c43",
   "metadata": {},
   "outputs": [
    {
     "name": "stdout",
     "output_type": "stream",
     "text": [
      "Enter a string: \"Hello World!\"\n",
      "Hello World\n"
     ]
    }
   ],
   "source": [
    "str = input(\"Enter a string: \")\n",
    "punctuations = '''!()-[]{};:'\"\\,<>./?@#$%^&*_~'''\n",
    "del_punc = \"\"\n",
    "for char in str:\n",
    "   if char not in punctuations:\n",
    "       del_punc = del_punc + char\n",
    "\n",
    "print(del_punc)"
   ]
  }
 ],
 "metadata": {
  "anaconda-cloud": {},
  "kernelspec": {
   "display_name": "Python 3",
   "language": "python",
   "name": "python3"
  },
  "language_info": {
   "codemirror_mode": {
    "name": "ipython",
    "version": 3
   },
   "file_extension": ".py",
   "mimetype": "text/x-python",
   "name": "python",
   "nbconvert_exporter": "python",
   "pygments_lexer": "ipython3",
   "version": "3.8.8"
  }
 },
 "nbformat": 4,
 "nbformat_minor": 5
}
