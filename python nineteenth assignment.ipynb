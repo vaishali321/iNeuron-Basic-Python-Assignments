{
 "cells": [
  {
   "cell_type": "markdown",
   "id": "24d4c9b2",
   "metadata": {},
   "source": [
    "# Create a function that takes a string and returns a string in which each character is repeated once."
   ]
  },
  {
   "cell_type": "code",
   "execution_count": 8,
   "id": "53fbcb55",
   "metadata": {},
   "outputs": [
    {
     "name": "stdout",
     "output_type": "stream",
     "text": [
      "HHeelllloo  WWoorrlldd!!\n"
     ]
    }
   ],
   "source": [
    "str=\"Hello World!\"\n",
    "def double_char(str):\n",
    "    out_str = ''\n",
    "    for character in str:\n",
    "        out_str = out_str + character  + character \n",
    "    return out_str\n",
    "print(double_char(str))"
   ]
  },
  {
   "cell_type": "markdown",
   "id": "37d55494",
   "metadata": {},
   "source": [
    "# Create a function that reverses a boolean value and returns the string \"boolean expected\" if another variable type is given."
   ]
  },
  {
   "cell_type": "code",
   "execution_count": 11,
   "id": "6142d05b",
   "metadata": {},
   "outputs": [
    {
     "name": "stdout",
     "output_type": "stream",
     "text": [
      "False\n",
      "True\n",
      "boolean expected\n",
      "boolean expected\n"
     ]
    }
   ],
   "source": [
    "def reverse_bool(arg):\n",
    "    if isinstance(arg, bool):\n",
    "        return not arg\n",
    "    else:\n",
    "        return('boolean expected')\n",
    "\n",
    "def reverse_bool(arg=None):\n",
    "    return not arg if type(arg) == bool else \"boolean expected\"\n",
    "\n",
    "print(reverse_bool(True)) # False\n",
    "print(reverse_bool(False)) # True\n",
    "print(reverse_bool(0)) # \"boolean expected\"\n",
    "print(reverse_bool(None)) # \"boolean expected\""
   ]
  },
  {
   "cell_type": "markdown",
   "id": "6976b1c6",
   "metadata": {},
   "source": [
    "# Create a function that returns the thickness (in meters) of a piece of paper after folding it n number of times. The paper starts off with a thickness of 0.5mm."
   ]
  },
  {
   "cell_type": "code",
   "execution_count": 14,
   "id": "ce374aaa",
   "metadata": {},
   "outputs": [
    {
     "name": "stdout",
     "output_type": "stream",
     "text": [
      "0.008\n"
     ]
    }
   ],
   "source": [
    "def fold_n(a):\n",
    "    result = 0.5\n",
    "    for _ in range(a):\n",
    "        result *= 2\n",
    "    # return res for mm\n",
    "    return result / 1000 # for meters\n",
    "print(fold_n(4))"
   ]
  },
  {
   "cell_type": "markdown",
   "id": "1763c4f6",
   "metadata": {},
   "source": [
    "# Create a function that takes a single string as argument and returns an ordered list containing the indices of all capital letters in the string."
   ]
  },
  {
   "cell_type": "code",
   "execution_count": 19,
   "id": "ea2fdfe3",
   "metadata": {},
   "outputs": [
    {
     "name": "stdout",
     "output_type": "stream",
     "text": [
      "[1, 3, 5]\n"
     ]
    }
   ],
   "source": [
    "index_capitals = lambda str: [i for i,val in enumerate(str) if val.isupper()]\n",
    "print(index_capitals(\"eDaBiT\"))"
   ]
  },
  {
   "cell_type": "markdown",
   "id": "38fd8d8d",
   "metadata": {},
   "source": [
    "# Using list comprehensions, create a function that finds all even numbers from 1 to the given number."
   ]
  },
  {
   "cell_type": "code",
   "execution_count": 35,
   "id": "1b2abeeb",
   "metadata": {},
   "outputs": [
    {
     "name": "stdout",
     "output_type": "stream",
     "text": [
      "[]\n"
     ]
    }
   ],
   "source": [
    "new_list = []\n",
    "def even_no(numbers):\n",
    "# Add values to `new_list`\n",
    "   for n in (1,numbers+1):\n",
    "        if n%2==0: #check if the element is even\n",
    "            new_list.append(n**2)\n",
    "        \n",
    "        return new_list\n",
    "# Print `new_list`\n",
    "print(even_no(8))"
   ]
  },
  {
   "cell_type": "code",
   "execution_count": null,
   "id": "e37a67cc",
   "metadata": {},
   "outputs": [],
   "source": []
  }
 ],
 "metadata": {
  "anaconda-cloud": {},
  "kernelspec": {
   "display_name": "Python 3",
   "language": "python",
   "name": "python3"
  },
  "language_info": {
   "codemirror_mode": {
    "name": "ipython",
    "version": 3
   },
   "file_extension": ".py",
   "mimetype": "text/x-python",
   "name": "python",
   "nbconvert_exporter": "python",
   "pygments_lexer": "ipython3",
   "version": "3.8.8"
  }
 },
 "nbformat": 4,
 "nbformat_minor": 5
}
