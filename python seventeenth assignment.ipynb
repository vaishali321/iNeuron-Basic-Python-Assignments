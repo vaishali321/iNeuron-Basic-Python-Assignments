{
 "cells": [
  {
   "cell_type": "markdown",
   "id": "b909fed5",
   "metadata": {},
   "source": [
    "# Question1. Create a function that takes three arguments a, b, c and returns the sum of the numbers that are evenly divided by c from the range a, b inclusive."
   ]
  },
  {
   "cell_type": "code",
   "execution_count": 6,
   "id": "263a7a8e",
   "metadata": {},
   "outputs": [
    {
     "name": "stdout",
     "output_type": "stream",
     "text": [
      "30\n"
     ]
    }
   ],
   "source": [
    "def generator(A, B, M):\n",
    " \n",
    "    \n",
    "    summation = 0\n",
    " \n",
    "    \n",
    "    for i in range(A, B + 1):\n",
    " \n",
    "        \n",
    "        if (i % M == 0):\n",
    "            summation += i\n",
    " \n",
    "   \n",
    "    return summation\n",
    " \n",
    "if __name__==\"__main__\":\n",
    "\n",
    "    A = 1\n",
    "    B = 10\n",
    "    M = 2\n",
    " \n",
    "   \n",
    "    print(generator(A, B, M))"
   ]
  },
  {
   "cell_type": "markdown",
   "id": "0f4b1657",
   "metadata": {},
   "source": [
    "# Question2. Create a function that returns True if a given inequality expression is correct and False otherwise."
   ]
  },
  {
   "cell_type": "code",
   "execution_count": 12,
   "id": "1638c3d4",
   "metadata": {},
   "outputs": [
    {
     "name": "stdout",
     "output_type": "stream",
     "text": [
      "True\n",
      "False\n",
      "True\n"
     ]
    }
   ],
   "source": [
    "def check_exp(exp):\n",
    "    regex=eval(exp)\n",
    "    if regex:\n",
    "        return True\n",
    "    else:\n",
    "        return False \n",
    "# printing result \n",
    "print(check_exp(\"3 < 7 < 11\"))\n",
    "print(check_exp(\"13 > 44 > 33 > 1\"))\n",
    "print(check_exp(\"1 < 2 < 6 < 9 > 3\"))"
   ]
  },
  {
   "cell_type": "markdown",
   "id": "acced42e",
   "metadata": {},
   "source": [
    "# Question3. Create a function that replaces all the vowels in a string with a specified character."
   ]
  },
  {
   "cell_type": "code",
   "execution_count": 15,
   "id": "4f18fda6",
   "metadata": {},
   "outputs": [
    {
     "name": "stdout",
     "output_type": "stream",
     "text": [
      "Given Sting is: shakespeare\n",
      "Given Specified Character is : *\n",
      "After replacing vowels with the specified character: sh*k*sp**r*\n"
     ]
    }
   ],
   "source": [
    "def replace_vowels(test_string, n):\n",
    " \n",
    "   \n",
    "    vowels = 'AEIOUaeiou'\n",
    " \n",
    "    \n",
    "    for element in vowels:\n",
    " \n",
    "        # replacing vowel with the specified character\n",
    "        test_string = test_string.replace(element, n)\n",
    " \n",
    "    return test_string\n",
    " \n",
    " \n",
    "   \n",
    "\n",
    "input_string = \"shakespeare\"\n",
    " \n",
    "\n",
    "n = \"*\"\n",
    " \n",
    "\n",
    "print(\"Given Sting is:\", input_string)\n",
    "print(\"Given Specified Character is :\", n)\n",
    " \n",
    "\n",
    "print(\"After replacing vowels with the specified character:\",\n",
    "      replace_vowels(input_string, n))"
   ]
  },
  {
   "cell_type": "markdown",
   "id": "3aae0f0b",
   "metadata": {},
   "source": [
    "# Question4. Write a function that calculates the factorial of a number recursively."
   ]
  },
  {
   "cell_type": "code",
   "execution_count": 16,
   "id": "0c265f4d",
   "metadata": {},
   "outputs": [
    {
     "name": "stdout",
     "output_type": "stream",
     "text": [
      "The number is :  7\n",
      "Factorial :  5040\n"
     ]
    }
   ],
   "source": [
    "def factorial(n): \n",
    "      \n",
    "    \n",
    "    if (n==1 or n==0):\n",
    "          \n",
    "        return 1\n",
    "      \n",
    "    else:\n",
    "          \n",
    "        return (n * factorial(n - 1)) \n",
    "  \n",
    " \n",
    "number = 7; \n",
    "print(\"The number is : \",number)\n",
    "print(\"Factorial : \",factorial(number))"
   ]
  },
  {
   "cell_type": "markdown",
   "id": "99c9cb6e",
   "metadata": {},
   "source": [
    "# Question 5\n",
    "Create a function that computes the hamming distance between two strings.\n"
   ]
  },
  {
   "cell_type": "code",
   "execution_count": 24,
   "id": "1f3817e7",
   "metadata": {},
   "outputs": [
    {
     "ename": "IndexError",
     "evalue": "string index out of range",
     "output_type": "error",
     "traceback": [
      "\u001b[1;31m---------------------------------------------------------------------------\u001b[0m",
      "\u001b[1;31mIndexError\u001b[0m                                Traceback (most recent call last)",
      "\u001b[1;32m<ipython-input-24-30661eef7cc1>\u001b[0m in \u001b[0;36m<module>\u001b[1;34m\u001b[0m\n\u001b[0;32m     11\u001b[0m     \u001b[1;32mreturn\u001b[0m \u001b[0mdist\u001b[0m\u001b[1;33m\u001b[0m\u001b[1;33m\u001b[0m\u001b[0m\n\u001b[0;32m     12\u001b[0m \u001b[1;33m\u001b[0m\u001b[0m\n\u001b[1;32m---> 13\u001b[1;33m \u001b[0mexample\u001b[0m \u001b[1;33m=\u001b[0m \u001b[0mhamming_dist\u001b[0m\u001b[1;33m(\u001b[0m\u001b[1;34m\"englishpractice\"\u001b[0m\u001b[1;33m,\u001b[0m \u001b[1;34m\"hindipractice\"\u001b[0m\u001b[1;33m)\u001b[0m\u001b[1;33m\u001b[0m\u001b[1;33m\u001b[0m\u001b[0m\n\u001b[0m\u001b[0;32m     14\u001b[0m \u001b[0mprint\u001b[0m\u001b[1;33m(\u001b[0m\u001b[0mexample\u001b[0m\u001b[1;33m)\u001b[0m\u001b[1;33m\u001b[0m\u001b[1;33m\u001b[0m\u001b[0m\n",
      "\u001b[1;32m<ipython-input-24-30661eef7cc1>\u001b[0m in \u001b[0;36mhamming_dist\u001b[1;34m(str1, str2)\u001b[0m\n\u001b[0;32m      6\u001b[0m     \u001b[1;32mfor\u001b[0m \u001b[0mi\u001b[0m \u001b[1;32min\u001b[0m \u001b[0mrange\u001b[0m\u001b[1;33m(\u001b[0m\u001b[0mL\u001b[0m\u001b[1;33m)\u001b[0m\u001b[1;33m:\u001b[0m\u001b[1;33m\u001b[0m\u001b[1;33m\u001b[0m\u001b[0m\n\u001b[0;32m      7\u001b[0m         \u001b[1;31m# Add 1 to the distance if these two characters are not equal\u001b[0m\u001b[1;33m\u001b[0m\u001b[1;33m\u001b[0m\u001b[1;33m\u001b[0m\u001b[0m\n\u001b[1;32m----> 8\u001b[1;33m            \u001b[1;32mif\u001b[0m \u001b[0mstr1\u001b[0m\u001b[1;33m[\u001b[0m\u001b[0mi\u001b[0m\u001b[1;33m]\u001b[0m \u001b[1;33m!=\u001b[0m \u001b[0mstr2\u001b[0m\u001b[1;33m[\u001b[0m\u001b[0mi\u001b[0m\u001b[1;33m]\u001b[0m\u001b[1;33m:\u001b[0m\u001b[1;33m\u001b[0m\u001b[1;33m\u001b[0m\u001b[0m\n\u001b[0m\u001b[0;32m      9\u001b[0m                 \u001b[0mdist\u001b[0m \u001b[1;33m+=\u001b[0m \u001b[1;36m1\u001b[0m\u001b[1;33m\u001b[0m\u001b[1;33m\u001b[0m\u001b[0m\n\u001b[0;32m     10\u001b[0m     \u001b[1;31m# Return the final count of differences\u001b[0m\u001b[1;33m\u001b[0m\u001b[1;33m\u001b[0m\u001b[1;33m\u001b[0m\u001b[0m\n",
      "\u001b[1;31mIndexError\u001b[0m: string index out of range"
     ]
    }
   ],
   "source": [
    "def hamming_dist(str1, str2): \n",
    "    \n",
    "    dist = 0\n",
    "    # Loop over the indices of the string\n",
    "    L = len(str1)\n",
    "    for i in range(L):\n",
    "        # Add 1 to the distance if these two characters are not equal\n",
    "           if str1[i] != str2[i]:\n",
    "                dist += 1\n",
    "    # Return the final count of differences\n",
    "    return dist\n",
    "\n",
    "example = hamming_dist(\"englishpractice\", \"hindipractice\")\n",
    "print(example)"
   ]
  },
  {
   "cell_type": "code",
   "execution_count": null,
   "id": "b3ba8098",
   "metadata": {},
   "outputs": [],
   "source": []
  }
 ],
 "metadata": {
  "anaconda-cloud": {},
  "kernelspec": {
   "display_name": "Python 3",
   "language": "python",
   "name": "python3"
  },
  "language_info": {
   "codemirror_mode": {
    "name": "ipython",
    "version": 3
   },
   "file_extension": ".py",
   "mimetype": "text/x-python",
   "name": "python",
   "nbconvert_exporter": "python",
   "pygments_lexer": "ipython3",
   "version": "3.8.8"
  }
 },
 "nbformat": 4,
 "nbformat_minor": 5
}
