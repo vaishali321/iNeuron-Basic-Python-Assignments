{
 "cells": [
  {
   "cell_type": "markdown",
   "id": "d3bb60b1",
   "metadata": {},
   "source": [
    "# 1.\tWrite a Python program to convert kilometers to miles"
   ]
  },
  {
   "cell_type": "code",
   "execution_count": 2,
   "id": "2c557ceb",
   "metadata": {},
   "outputs": [
    {
     "name": "stdout",
     "output_type": "stream",
     "text": [
      "Enter value in kilometers to be converted in miles: 8\n",
      "8.00 kilometers is equal to 4.97 miles\n"
     ]
    }
   ],
   "source": [
    "import numpy\n",
    "# Take kilometers input from the user side\n",
    "km = float(input(\"Enter value in kilometers to be converted in miles: \"))\n",
    "\n",
    "# The conversion factor is\n",
    "conversion_fact = 0.621371\n",
    "\n",
    "# calculate miles\n",
    "miles = km * conversion_fact\n",
    "print('%0.2f kilometers is equal to %0.2f miles' %(km,miles))"
   ]
  },
  {
   "cell_type": "markdown",
   "id": "e35d2bfb",
   "metadata": {},
   "source": [
    "# 2.\tWrite a Python program to convert Celsius to Fahrenheit"
   ]
  },
  {
   "cell_type": "code",
   "execution_count": 5,
   "id": "9e357a55",
   "metadata": {},
   "outputs": [
    {
     "name": "stdout",
     "output_type": "stream",
     "text": [
      "Enter value in Celsius to be converted in fahrenheit: 34\n",
      "34.00 celsius is equal to 93.20 fahrenheit\n"
     ]
    }
   ],
   "source": [
    "import numpy\n",
    "# Take Celsius input from the user side\n",
    "celsius = float(input(\"Enter value in Celsius to be converted in fahrenheit: \"))\n",
    "\n",
    "# The conversion factor is\n",
    "fahrenheit = (celsius * 1.8) + 32\n",
    "\n",
    "print('%0.2f celsius is equal to %0.2f fahrenheit' %(celsius,fahrenheit))"
   ]
  },
  {
   "cell_type": "markdown",
   "id": "0d82d257",
   "metadata": {},
   "source": [
    "# 3.\tWrite a Python program to display calendar"
   ]
  },
  {
   "cell_type": "code",
   "execution_count": 6,
   "id": "d84a304a",
   "metadata": {},
   "outputs": [
    {
     "name": "stdout",
     "output_type": "stream",
     "text": [
      "Enter year: 2021\n",
      "Enter month: 1\n",
      "    January 2021\n",
      "Mo Tu We Th Fr Sa Su\n",
      "             1  2  3\n",
      " 4  5  6  7  8  9 10\n",
      "11 12 13 14 15 16 17\n",
      "18 19 20 21 22 23 24\n",
      "25 26 27 28 29 30 31\n",
      "\n"
     ]
    }
   ],
   "source": [
    "# we need to import calendar module\n",
    "import calendar\n",
    "\n",
    "\n",
    "# Take month and year input from the user\n",
    "year = int(input(\"Enter year: \"))\n",
    "month= int(input(\"Enter month: \"))\n",
    "\n",
    "# display the calendar\n",
    "print(calendar.month(year, month))"
   ]
  },
  {
   "cell_type": "markdown",
   "id": "325106aa",
   "metadata": {},
   "source": [
    "# 4.\tWrite a Python program to solve quadratic equation"
   ]
  },
  {
   "cell_type": "code",
   "execution_count": 10,
   "id": "4c0f13a8",
   "metadata": {},
   "outputs": [
    {
     "name": "stdout",
     "output_type": "stream",
     "text": [
      "The solution are (-1-1.7320508075688772j) and (-1+1.7320508075688772j)\n"
     ]
    }
   ],
   "source": [
    "# Solving the quadratic equation ax**2 + bx + c = 0\n",
    "\n",
    "# importing complex math module cmath\n",
    "import cmath\n",
    "\n",
    "a = 1\n",
    "b = 2\n",
    "c = 4\n",
    "\n",
    "# calculate the discriminant\n",
    "desc = (b**2) - (4*a*c)\n",
    "\n",
    "# find two solutions\n",
    "ans1 = (-b - cmath.sqrt(desc))/(2*a)\n",
    "ans2 = (-b + cmath.sqrt(desc))/(2*a)\n",
    "\n",
    "print('The solution are {0} and {1}'.format(ans1,ans2))\n"
   ]
  },
  {
   "cell_type": "markdown",
   "id": "cba46007",
   "metadata": {},
   "source": [
    "# 5.\tWrite a Python program to swap two variables without temp variable"
   ]
  },
  {
   "cell_type": "code",
   "execution_count": 13,
   "id": "6c659f4a",
   "metadata": {},
   "outputs": [
    {
     "name": "stdout",
     "output_type": "stream",
     "text": [
      "Values of x and y before swapping 10 15\n",
      "Values of x and y after swapping\n",
      "x = 15\n",
      "y = 10\n"
     ]
    }
   ],
   "source": [
    "x = 10\n",
    "y = 15\n",
    "print(\"Values of x and y before swapping\",x,y)\n",
    "\n",
    "x, y = y, x\n",
    "print(\"Values of x and y after swapping\")\n",
    "print(\"x =\", x)\n",
    "print(\"y =\", y)"
   ]
  }
 ],
 "metadata": {
  "anaconda-cloud": {},
  "kernelspec": {
   "display_name": "Python 3",
   "language": "python",
   "name": "python3"
  },
  "language_info": {
   "codemirror_mode": {
    "name": "ipython",
    "version": 3
   },
   "file_extension": ".py",
   "mimetype": "text/x-python",
   "name": "python",
   "nbconvert_exporter": "python",
   "pygments_lexer": "ipython3",
   "version": "3.8.8"
  }
 },
 "nbformat": 4,
 "nbformat_minor": 5
}
