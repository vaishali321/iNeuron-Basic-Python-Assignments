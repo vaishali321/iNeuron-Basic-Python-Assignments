{
 "cells": [
  {
   "cell_type": "markdown",
   "id": "88acda83",
   "metadata": {},
   "source": [
    "# Define a class with a generator which can iterate the numbers, which are divisible by 7, between a given range 0 and n."
   ]
  },
  {
   "cell_type": "code",
   "execution_count": 5,
   "id": "8857b159",
   "metadata": {},
   "outputs": [
    {
     "name": "stdout",
     "output_type": "stream",
     "text": [
      "0\n",
      "7\n",
      "14\n",
      "21\n",
      "28\n",
      "35\n",
      "42\n",
      "49\n",
      "56\n",
      "63\n",
      "70\n",
      "77\n",
      "84\n",
      "91\n",
      "98\n"
     ]
    }
   ],
   "source": [
    "class iterator(object):\n",
    "\n",
    "    def __init__(self, n):\n",
    "        super(iterator, self).__init__()\n",
    "        self.n = n\n",
    "    def divideBySeven(self):\n",
    "            for i in range(0, self.n):\n",
    "                if i % 7 == 0:\n",
    "                    yield i\n",
    "\n",
    "for number in iterator(100).divideBySeven():\n",
    "    print(number)"
   ]
  },
  {
   "cell_type": "markdown",
   "id": "60fd67a4",
   "metadata": {},
   "source": [
    "# Write a program to compute the frequency of the words from the input. The output should output after sorting the key alphanumerically. "
   ]
  },
  {
   "cell_type": "code",
   "execution_count": 11,
   "id": "61aa37a2",
   "metadata": {},
   "outputs": [
    {
     "name": "stdout",
     "output_type": "stream",
     "text": [
      "Enter the line: New to Python or choosing between Python 2 and Python 3? Read Python 2 or Python 3\n",
      "[('abc', 3), ('df', 2)]\n",
      "New 1\n",
      "Python 1\n",
      "Read 1\n",
      "and 1\n",
      "between 1\n",
      "choosing 1\n",
      "or 1\n",
      "to 1\n"
     ]
    }
   ],
   "source": [
    "import operator\n",
    "\n",
    "input_line = input(\"Enter the line: \")\n",
    "\n",
    "frequency_worddict = {}\n",
    "\n",
    "for i in input_line.split(' '):\n",
    "    if i.isalpha():\n",
    "        if i not in frequency_worddict:\n",
    "            frequency_worddict[i] = 1\n",
    "        elif i in freq_dict:\n",
    "            frequency_worddict[i] = frequency_worddict[i] + 1\n",
    "    else:\n",
    "        pass\n",
    "\n",
    "sorted_frequency_worddict = sorted(frequency_worddict.items(), key = operator.itemgetter(0))\n",
    "print(sorted_freq_dict)\n",
    "\n",
    "for i in sorted_frequency_worddict:\n",
    "    print(i[0], i[1])"
   ]
  },
  {
   "cell_type": "markdown",
   "id": "4ef5418e",
   "metadata": {},
   "source": [
    "# Define a class Person and its two child classes: Male and Female. All classes have a method \"getGender\" which can print \"Male\" for Male class and \"Female\" for Female class."
   ]
  },
  {
   "cell_type": "code",
   "execution_count": 12,
   "id": "0ee0c64d",
   "metadata": {},
   "outputs": [
    {
     "name": "stdout",
     "output_type": "stream",
     "text": [
      "Male\n",
      "Female\n"
     ]
    }
   ],
   "source": [
    "class Person(object):\n",
    "    def getGender( self ):\n",
    "        return \"Anonymsm\"\n",
    "\n",
    "class Male( Person ):\n",
    "    def getGender( self ):\n",
    "        return \"Male\"\n",
    "\n",
    "class Female( Person ):\n",
    "    def getGender( self ):\n",
    "        return \"Female\"\n",
    "\n",
    "He_Male = Male()\n",
    "She_Female= Female()\n",
    "print(He_Male.getGender())\n",
    "print(She_Female.getGender())"
   ]
  },
  {
   "cell_type": "markdown",
   "id": "52ba63fb",
   "metadata": {},
   "source": [
    "# Please write a program to generate all sentences where subject is in [\"I\", \"You\"] and verb is in [\"Play\", \"Love\"] and the object is in [\"Hockey\",\"Football\"]."
   ]
  },
  {
   "cell_type": "code",
   "execution_count": 14,
   "id": "620d1fd9",
   "metadata": {},
   "outputs": [
    {
     "name": "stdout",
     "output_type": "stream",
     "text": [
      "I Play Hockey\n",
      "I Play Football\n",
      "I Love Hockey\n",
      "I Love Football\n",
      "You Play Hockey\n",
      "You Play Football\n",
      "You Love Hockey\n",
      "You Love Football\n"
     ]
    }
   ],
   "source": [
    "nouns=[\"I\", \"You\"]\n",
    "actions=[\"Play\", \"Love\"]\n",
    "games=[\"Hockey\",\"Football\"]\n",
    "\n",
    "for n in nouns:\n",
    "    for a in actions:\n",
    "        for g in games:\n",
    "            print(\"{} {} {}\".format(n,a,g))"
   ]
  },
  {
   "cell_type": "markdown",
   "id": "f62a76eb",
   "metadata": {},
   "source": [
    "# Please write a program to compress and decompress the string \"hello world!hello world!hello world!hello world!\"."
   ]
  },
  {
   "cell_type": "code",
   "execution_count": 21,
   "id": "1460ccf3",
   "metadata": {},
   "outputs": [
    {
     "name": "stdout",
     "output_type": "stream",
     "text": [
      "b'x\\x9c\\xcbH\\xcd\\xc9\\xc9W(\\xcf/\\xcaIQ\\xcc \\x82\\r\\x00\\xbd[\\x11\\xf5'\n",
      "b'hello world!hello world!hello world!hello world!'\n"
     ]
    }
   ],
   "source": [
    "str = 'hello world!hello world!hello world!hello world!'\n",
    "\n",
    "a = bytes(str, 'utf-8')\n",
    "b = zlib.compress(a)\n",
    "print()\n",
    "print(zlib.decompress(b))"
   ]
  },
  {
   "cell_type": "markdown",
   "id": "46b5c247",
   "metadata": {},
   "source": [
    "# Please write a binary search function which searches an item in a sorted list. The function should return the index of element to be searched in the list."
   ]
  },
  {
   "cell_type": "code",
   "execution_count": 25,
   "id": "15c6a653",
   "metadata": {},
   "outputs": [
    {
     "name": "stdout",
     "output_type": "stream",
     "text": [
      "Largest value smaller than  10  is at index  4\n"
     ]
    }
   ],
   "source": [
    "from bisect import bisect_left\n",
    "  \n",
    "def Bin_Search(list, no):\n",
    "    i = bisect_left(list, no)\n",
    "    if i:\n",
    "        return (i-1)\n",
    "    else:\n",
    "        return -1\n",
    "  \n",
    "\n",
    "list  = [1, 2, 6, 10, 8]\n",
    "no = int(10)\n",
    "result = BinarySearch(list, no)\n",
    "if result == -1:\n",
    "    print(\"No value smaller than \", no)\n",
    "else:\n",
    "    print(\"Largest value smaller than \", no, \" is at index \", result)"
   ]
  }
 ],
 "metadata": {
  "anaconda-cloud": {},
  "kernelspec": {
   "display_name": "Python 3",
   "language": "python",
   "name": "python3"
  },
  "language_info": {
   "codemirror_mode": {
    "name": "ipython",
    "version": 3
   },
   "file_extension": ".py",
   "mimetype": "text/x-python",
   "name": "python",
   "nbconvert_exporter": "python",
   "pygments_lexer": "ipython3",
   "version": "3.8.8"
  }
 },
 "nbformat": 4,
 "nbformat_minor": 5
}
