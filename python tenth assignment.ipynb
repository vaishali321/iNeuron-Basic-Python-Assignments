{
 "cells": [
  {
   "cell_type": "markdown",
   "id": "63bf4ffe",
   "metadata": {},
   "source": [
    "# 1.\tWrite a Python program to find sum of elements in list"
   ]
  },
  {
   "cell_type": "code",
   "execution_count": 2,
   "id": "48d01d65",
   "metadata": {},
   "outputs": [
    {
     "name": "stdout",
     "output_type": "stream",
     "text": [
      "Sum of the array is  15\n"
     ]
    }
   ],
   "source": [
    "new_list = [1,2,3,4,5]\n",
    "summation = sum(new_list)\n",
    "print ('Sum of the array is ',summation)"
   ]
  },
  {
   "cell_type": "markdown",
   "id": "d1f17e7f",
   "metadata": {},
   "source": [
    "# 2.\tWrite a Python program to  Multiply all numbers in the list"
   ]
  },
  {
   "cell_type": "code",
   "execution_count": 3,
   "id": "7fc84d62",
   "metadata": {},
   "outputs": [
    {
     "name": "stdout",
     "output_type": "stream",
     "text": [
      "336\n"
     ]
    }
   ],
   "source": [
    "import numpy as np\n",
    "new_list=[2,4,6,7,1]\n",
    "multiplication=np.prod(new_list)\n",
    "print(multiplication)"
   ]
  },
  {
   "cell_type": "markdown",
   "id": "08a3cac9",
   "metadata": {},
   "source": [
    "# 3.\tWrite a Python program to find smallest number in a list"
   ]
  },
  {
   "cell_type": "code",
   "execution_count": 4,
   "id": "405301d2",
   "metadata": {},
   "outputs": [
    {
     "name": "stdout",
     "output_type": "stream",
     "text": [
      "1\n"
     ]
    }
   ],
   "source": [
    "import numpy as np\n",
    "new_list=[2,4,6,7,1]\n",
    "small_no=np.min(new_list)\n",
    "print(small_no)"
   ]
  },
  {
   "cell_type": "markdown",
   "id": "a0b32078",
   "metadata": {},
   "source": [
    "# 4.\tWrite a Python program to find largest number in a list"
   ]
  },
  {
   "cell_type": "code",
   "execution_count": 5,
   "id": "f03240e7",
   "metadata": {},
   "outputs": [
    {
     "name": "stdout",
     "output_type": "stream",
     "text": [
      "7\n"
     ]
    }
   ],
   "source": [
    "import numpy as np\n",
    "new_list=[2,4,6,7,1]\n",
    "small_no=np.max(new_list)\n",
    "print(small_no)"
   ]
  },
  {
   "cell_type": "markdown",
   "id": "5a156dd6",
   "metadata": {},
   "source": [
    "# 5.\tWrite a Python program to find second largest number in a list"
   ]
  },
  {
   "cell_type": "code",
   "execution_count": 6,
   "id": "27d7669d",
   "metadata": {},
   "outputs": [
    {
     "name": "stdout",
     "output_type": "stream",
     "text": [
      "Second largest element is: 56\n"
     ]
    }
   ],
   "source": [
    "new_list = [24,56,89,40,12]\n",
    " \n",
    "# sorting the list\n",
    "new_list.sort()\n",
    " \n",
    "# printing the second last element\n",
    "print(\"Second largest element is:\", new_list[-2])"
   ]
  },
  {
   "cell_type": "markdown",
   "id": "eb1a3b65",
   "metadata": {},
   "source": [
    "# 6.\tWrite a Python program to find N largest elements from a list"
   ]
  },
  {
   "cell_type": "code",
   "execution_count": 9,
   "id": "4b28f155",
   "metadata": {},
   "outputs": [
    {
     "name": "stdout",
     "output_type": "stream",
     "text": [
      "N largest element is: [56, 89, 100]\n"
     ]
    }
   ],
   "source": [
    "new_list = [24,56,89,40,100,12]\n",
    "n=3\n",
    "new_list.sort()\n",
    "print(\"N largest element is:\", new_list[-n:])"
   ]
  },
  {
   "cell_type": "markdown",
   "id": "f080ca9f",
   "metadata": {},
   "source": [
    "# 7.\tWrite a Python program to print even numbers in a list"
   ]
  },
  {
   "cell_type": "code",
   "execution_count": 10,
   "id": "5e6cdd82",
   "metadata": {},
   "outputs": [
    {
     "name": "stdout",
     "output_type": "stream",
     "text": [
      "24\n",
      "56\n",
      "100\n",
      "12\n"
     ]
    }
   ],
   "source": [
    "new_list = [24,56,89,41,100,12]\n",
    "for i in new_list:\n",
    "    if i % 2==0:\n",
    "        print(i)"
   ]
  },
  {
   "cell_type": "markdown",
   "id": "9b04435d",
   "metadata": {},
   "source": [
    "# 8.\tWrite a Python program to print odd numbers in a List"
   ]
  },
  {
   "cell_type": "code",
   "execution_count": null,
   "id": "50939818",
   "metadata": {},
   "outputs": [],
   "source": [
    "# new_list = [24,56,89,41,100,12]\n",
    "for i in new_list:\n",
    "    if i % 2!=0:\n",
    "        print(i)"
   ]
  },
  {
   "cell_type": "markdown",
   "id": "3ff6b34a",
   "metadata": {},
   "source": [
    "# 9.\tWrite a Python program to Remove empty List from List"
   ]
  },
  {
   "cell_type": "code",
   "execution_count": 12,
   "id": "dfc2e1bb",
   "metadata": {},
   "outputs": [
    {
     "name": "stdout",
     "output_type": "stream",
     "text": [
      "The original list is : [[24, 56], 89, 41, 100, 12, []]\n",
      "List after empty list removal : [[24, 56], 89, 41, 100, 12]\n"
     ]
    }
   ],
   "source": [
    "new_list = [[24,56],89,41,100,12,[ ]]\n",
    "print(\"The original list is : \" + str(new_list))\n",
    "result = list(filter(None, new_list))\n",
    "print (\"List after empty list removal : \" + str(result))"
   ]
  },
  {
   "cell_type": "markdown",
   "id": "221ca3c2",
   "metadata": {},
   "source": [
    "# 10.\tWrite a Python program to Cloning or Copying a list"
   ]
  },
  {
   "cell_type": "code",
   "execution_count": 14,
   "id": "a4a9dfb6",
   "metadata": {},
   "outputs": [
    {
     "name": "stdout",
     "output_type": "stream",
     "text": [
      "[24, 56, 89, 41, 100, 12]\n"
     ]
    }
   ],
   "source": [
    "new_list = [24,56,89,41,100,12]\n",
    "copy_list= new_list.copy()\n",
    "print(copy_list)"
   ]
  },
  {
   "cell_type": "markdown",
   "id": "35bb5886",
   "metadata": {},
   "source": [
    "# 11.\tWrite a Python program to Count occurrences of an element in a list"
   ]
  },
  {
   "cell_type": "code",
   "execution_count": 16,
   "id": "35de58fc",
   "metadata": {},
   "outputs": [
    {
     "name": "stdout",
     "output_type": "stream",
     "text": [
      "11 has occurred 3 times\n"
     ]
    }
   ],
   "source": [
    "from collections import Counter\n",
    " \n",
    "l = [11, 11, 20, 20, 70, 11, 70, 5, 5]\n",
    " \n",
    "no = 11\n",
    "a = Counter(l)\n",
    "print('{} has occurred {} times'.format(no, a[no]))"
   ]
  }
 ],
 "metadata": {
  "anaconda-cloud": {},
  "kernelspec": {
   "display_name": "Python 3",
   "language": "python",
   "name": "python3"
  },
  "language_info": {
   "codemirror_mode": {
    "name": "ipython",
    "version": 3
   },
   "file_extension": ".py",
   "mimetype": "text/x-python",
   "name": "python",
   "nbconvert_exporter": "python",
   "pygments_lexer": "ipython3",
   "version": "3.8.8"
  }
 },
 "nbformat": 4,
 "nbformat_minor": 5
}
