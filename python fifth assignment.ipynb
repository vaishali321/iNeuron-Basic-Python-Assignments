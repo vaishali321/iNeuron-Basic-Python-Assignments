{
 "cells": [
  {
   "cell_type": "markdown",
   "id": "d46eea0d",
   "metadata": {},
   "source": [
    "# 1.\tWrite a Python Program to Find LCM"
   ]
  },
  {
   "cell_type": "code",
   "execution_count": 4,
   "id": "acbb715a",
   "metadata": {},
   "outputs": [
    {
     "name": "stdout",
     "output_type": "stream",
     "text": [
      "Enter First number3\n",
      "Enter Second number4\n",
      "The L.C.M. is 12\n"
     ]
    }
   ],
   "source": [
    "def calc_lcm(a, b):\n",
    "\n",
    "   # choose the greater number\n",
    "   if a > b:\n",
    "       greater_no = a\n",
    "   else:\n",
    "       greater_no = b\n",
    "\n",
    "   while(True):\n",
    "       if((greater_no % a == 0) and (greater_no % b == 0)):\n",
    "           lcm = greater_no\n",
    "           break\n",
    "       greater_no = greater_no + 1\n",
    "\n",
    "   return lcm\n",
    "\n",
    "number1 = int(input(\"Enter First number\"))\n",
    "number2 = int(input(\"Enter Second number\"))\n",
    "\n",
    "print(\"The L.C.M. is\", calc_lcm(number1, number2))"
   ]
  },
  {
   "cell_type": "markdown",
   "id": "bafbb21c",
   "metadata": {},
   "source": [
    "# 2.\tWrite a Python Program to Find HCF"
   ]
  },
  {
   "cell_type": "code",
   "execution_count": 7,
   "id": "dc214797",
   "metadata": {},
   "outputs": [
    {
     "name": "stdout",
     "output_type": "stream",
     "text": [
      "Enter First number20\n",
      "Enter Second number80\n",
      "The H.C.F. is 20\n"
     ]
    }
   ],
   "source": [
    "def calc_hcf(a, b):\n",
    "\n",
    "# choose the smaller number\n",
    "    if a > b:\n",
    "        smaller_no = b\n",
    "    else:\n",
    "        smaller_no = a\n",
    "    for i in range(1, smaller_no + 1):\n",
    "        if((a % i == 0) and (b % i == 0)):\n",
    "            hcf = i \n",
    "    return hcf\n",
    "\n",
    "number1 = int(input(\"Enter First number\")) \n",
    "number2 = int(input(\"Enter Second number\"))\n",
    "\n",
    "print(\"The H.C.F. is\", calc_hcf(number1, number2))"
   ]
  },
  {
   "cell_type": "markdown",
   "id": "3b005591",
   "metadata": {},
   "source": [
    "# 3.\tWrite a Python Program to Convert Decimal to Binary, Octal and Hexadecimal"
   ]
  },
  {
   "cell_type": "code",
   "execution_count": 11,
   "id": "761b83f6",
   "metadata": {},
   "outputs": [
    {
     "name": "stdout",
     "output_type": "stream",
     "text": [
      "Enter The Number:-2\n",
      "The decimal value of 2 is:\n",
      "The number in binary is :- 0b10\n",
      "The number in octal:- 0o2\n",
      "The number in hexadecimal:- 0x2\n"
     ]
    }
   ],
   "source": [
    "decimal_no = int(input(\"Enter The Number:-\"))\n",
    "\n",
    "print(\"The decimal value of\", decimal_no, \"is:\")\n",
    "print( \"The number in binary is :-\",bin(decimal_no))\n",
    "print( \"The number in octal:-\",oct(decimal_no))\n",
    "print( \"The number in hexadecimal:-\",hex(decimal_no))"
   ]
  },
  {
   "cell_type": "markdown",
   "id": "3f4d16a4",
   "metadata": {},
   "source": [
    "# 4.\tWrite a Python Program To Find ASCII value of a character"
   ]
  },
  {
   "cell_type": "code",
   "execution_count": 16,
   "id": "451f62c7",
   "metadata": {},
   "outputs": [
    {
     "name": "stdout",
     "output_type": "stream",
     "text": [
      "Enter The CharacterA\n",
      "The ASCII value of 'A' is 65\n"
     ]
    }
   ],
   "source": [
    "char = input(\"Enter The Character\")\n",
    "print(\"The ASCII value of '\" + char + \"' is\", ord(char))"
   ]
  },
  {
   "cell_type": "markdown",
   "id": "a39f301e",
   "metadata": {},
   "source": [
    "# 5.\tWrite a Python Program to Make a Simple Calculator with 4 basic mathematical operations"
   ]
  },
  {
   "cell_type": "code",
   "execution_count": 20,
   "id": "0e093362",
   "metadata": {},
   "outputs": [
    {
     "name": "stdout",
     "output_type": "stream",
     "text": [
      "Select any operation.\n",
      "1.Add\n",
      "2.Subtract\n",
      "3.Multiply\n",
      "4.Divide\n",
      "Enter your choice: 1\n",
      "Enter first number: 4\n",
      "Enter second number: 6\n",
      "4.0 + 6.0 = 10.0\n",
      "Do you want to continue (yes/no): yes\n",
      "Enter your choice: 2\n",
      "Enter first number: 6\n",
      "Enter second number: 2\n",
      "6.0 - 2.0 = 4.0\n",
      "Do you want to continue (yes/no): no\n"
     ]
    }
   ],
   "source": [
    "\n",
    "\n",
    "# Function to add two numbers\n",
    "def add(a, b):\n",
    "    return a + b\n",
    "\n",
    "# Function to subtract two numbers\n",
    "def subtract(a, b):\n",
    "    return a - b\n",
    "\n",
    "#  Function to multiply two numbers\n",
    "def multiply(a, b):\n",
    "    return a * b\n",
    "\n",
    "#  Function for division of numbers\n",
    "def divide(a, b):\n",
    "    return a / b\n",
    "\n",
    "\n",
    "print(\"Select any operation.\")\n",
    "print(\"1.Add\")\n",
    "print(\"2.Subtract\")\n",
    "print(\"3.Multiply\")\n",
    "print(\"4.Divide\")\n",
    "\n",
    "while True:\n",
    "    # taking input from the user\n",
    "    choice = input(\"Enter your choice: \")\n",
    "\n",
    "    # check if choice is one of the four options\n",
    "    if choice in ('1', '2', '3', '4'):\n",
    "        number1 = float(input(\"Enter first number: \"))\n",
    "        number2 = float(input(\"Enter second number: \"))\n",
    "\n",
    "        if choice == '1':\n",
    "            print(number1, \"+\", number2, \"=\", add(number1, number2))\n",
    "\n",
    "        elif choice == '2':\n",
    "            print(number1, \"-\", number2, \"=\", subtract(number1, number2))\n",
    "\n",
    "        elif choice == '3':\n",
    "            print(number1, \"*\", number2, \"=\", multiply(number1, number2))\n",
    "\n",
    "        elif choice == '4':\n",
    "            print(number1, \"/\",number2, \"=\", divide(number1, number2))\n",
    "        \n",
    "        \n",
    "        tocontinue = input(\"Do you want to continue (yes/no): \")\n",
    "        if tocontinue == \"no\":\n",
    "          break\n",
    "    \n",
    "    else:\n",
    "        print(\"Invalid Input\")"
   ]
  },
  {
   "cell_type": "code",
   "execution_count": null,
   "id": "4e334ef7",
   "metadata": {},
   "outputs": [],
   "source": []
  }
 ],
 "metadata": {
  "anaconda-cloud": {},
  "kernelspec": {
   "display_name": "Python 3",
   "language": "python",
   "name": "python3"
  },
  "language_info": {
   "codemirror_mode": {
    "name": "ipython",
    "version": 3
   },
   "file_extension": ".py",
   "mimetype": "text/x-python",
   "name": "python",
   "nbconvert_exporter": "python",
   "pygments_lexer": "ipython3",
   "version": "3.8.8"
  }
 },
 "nbformat": 4,
 "nbformat_minor": 5
}
