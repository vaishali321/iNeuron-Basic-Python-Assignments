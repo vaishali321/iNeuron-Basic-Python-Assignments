{
 "cells": [
  {
   "cell_type": "markdown",
   "id": "d4a00022",
   "metadata": {},
   "source": [
    "# 1.\tWrite a Python program to Extract Unique values dictionary values"
   ]
  },
  {
   "cell_type": "code",
   "execution_count": 2,
   "id": "30a94506",
   "metadata": {},
   "outputs": [
    {
     "name": "stdout",
     "output_type": "stream",
     "text": [
      "The original dictionary is : {'abc': [1, 2, 3, 4], 'xyz': [4, 5, 6, 7], 'pqr': [7, 8, 9, 10], 'lmn': [10, 11]}\n",
      "The extracted unique values in  list is : [1, 2, 3, 4, 5, 6, 7, 8, 9, 10, 11]\n"
     ]
    }
   ],
   "source": [
    "new_dict = {'abc' : [1,2,3,4],\n",
    "             'xyz' : [4,5,6,7],\n",
    "             'pqr' : [7,8,9,10],\n",
    "             'lmn' : [10,11]}\n",
    "  \n",
    "\n",
    "print(\"The original dictionary is : \" + str(new_dict))\n",
    "  \n",
    "\n",
    "result = list(sorted({ele for val in new_dict.values() for ele in val}))\n",
    "  \n",
    "\n",
    "print(\"The extracted unique values in  list is : \" + str(result)) "
   ]
  },
  {
   "cell_type": "markdown",
   "id": "b94c7113",
   "metadata": {},
   "source": [
    "# 2.\tWrite a Python program to find the sum of all items in a dictionary"
   ]
  },
  {
   "cell_type": "code",
   "execution_count": 4,
   "id": "69e9536c",
   "metadata": {},
   "outputs": [
    {
     "name": "stdout",
     "output_type": "stream",
     "text": [
      "Dictionary:  {'x': 10, 'y': 20, 'z': 30}\n",
      "sum:  60\n"
     ]
    }
   ],
   "source": [
    "new_dic={ 'x':10, 'y':20, 'z':30 }\n",
    "\n",
    "print(\"Dictionary: \", new_dic)\n",
    "\n",
    "#using sum() and values()\n",
    "print(\"sum: \",sum(new_dic.values()))"
   ]
  },
  {
   "cell_type": "markdown",
   "id": "0d4dc6f6",
   "metadata": {},
   "source": [
    "# 3.\tWrite a Python program to Merging two Dictionaries"
   ]
  },
  {
   "cell_type": "code",
   "execution_count": 9,
   "id": "38bb32e5",
   "metadata": {},
   "outputs": [
    {
     "name": "stdout",
     "output_type": "stream",
     "text": [
      "{1: 'abc', 2: 'pqr', 3: 'ABC', 4: 'LMN'}\n"
     ]
    }
   ],
   "source": [
    "dict11 = {1: 'abc', 2: 'pqr'}\n",
    "dict22 = {3: 'ABC', 4: 'LMN'}\n",
    "\n",
    "print({**dict11 , **dict22})"
   ]
  },
  {
   "cell_type": "markdown",
   "id": "c968d20c",
   "metadata": {},
   "source": [
    "# 4.\tWrite a Python program to convert key-values list to flat dictionary"
   ]
  },
  {
   "cell_type": "code",
   "execution_count": 10,
   "id": "1a8cff44",
   "metadata": {},
   "outputs": [
    {
     "name": "stdout",
     "output_type": "stream",
     "text": [
      "The original dictionary is : {'Day': [1, 2, 3], 'name': ['Mon', 'Tue', 'Wed']}\n",
      "Flattened dictionary : {1: 'Mon', 2: 'Tue', 3: 'Wed'}\n"
     ]
    }
   ],
   "source": [
    "from itertools import product\n",
    "  \n",
    "\n",
    "new_dict = {'Day' : [1, 2, 3],\n",
    "             'name' : ['Mon', 'Tue', 'Wed']}\n",
    "  \n",
    "\n",
    "print(\"The original dictionary is : \" + str(new_dict))\n",
    "result = dict(zip(new_dict['Day'], new_dict['name']))\n",
    "  \n",
    " \n",
    "print(\"Flattened dictionary : \" + str(result)) "
   ]
  },
  {
   "cell_type": "markdown",
   "id": "a1fa4a50",
   "metadata": {},
   "source": [
    "# 5.\tWrite a Python program to insertion at the beginning in OrderedDict"
   ]
  },
  {
   "cell_type": "code",
   "execution_count": 13,
   "id": "65499fa4",
   "metadata": {},
   "outputs": [
    {
     "name": "stdout",
     "output_type": "stream",
     "text": [
      "The dictionary is :\n",
      "OrderedDict([('A', '1'), ('B', '2'), ('C', '4')])\n",
      "The resultant dictionary is : \n",
      "OrderedDict([('G', '7'), ('A', '1'), ('B', '2'), ('C', '4')])\n"
     ]
    }
   ],
   "source": [
    "from collections import OrderedDict\n",
    "\n",
    "old_dict = OrderedDict([('A', '1'), ('B', '2'), ('C', '4')])\n",
    "print(\"The dictionary is :\")\n",
    "print(old_dict)\n",
    "old_dict.update({'G':'7'})\n",
    "old_dict.move_to_end('G', last = False)\n",
    "\n",
    "print(\"The resultant dictionary is : \")\n",
    "print(old_dict)"
   ]
  },
  {
   "cell_type": "markdown",
   "id": "4824cfa3",
   "metadata": {},
   "source": [
    "# 6.\tWrite a Python program to check order of character in string using OrderedDict()?"
   ]
  },
  {
   "cell_type": "code",
   "execution_count": 20,
   "id": "2b63bea3",
   "metadata": {},
   "outputs": [
    {
     "name": "stdout",
     "output_type": "stream",
     "text": [
      "The string is \n",
      "Hello World\n",
      "The input pattern is \n",
      "el\n",
      "The order of pattern is correct\n"
     ]
    }
   ],
   "source": [
    "from collections import OrderedDict\n",
    "\n",
    "def order_char(input_str, pattern):\n",
    "    my_dict = OrderedDict.fromkeys(input_str)\n",
    "    pattern_len = 0\n",
    "    for key,value in my_dict.items():\n",
    "        if (key == pattern[pattern_len]):\n",
    "            pattern_len = pattern_len + 1\n",
    "\n",
    "            if (pattern_len == (len(pattern))):\n",
    "                return 'The order of pattern is correct'\n",
    "\n",
    "    return 'The order of pattern is incorrect'\n",
    "\n",
    "input_str = 'Hello World'\n",
    "pattern = 'el'\n",
    "print(\"The string is \")\n",
    "print(input_str)\n",
    "print(\"The input pattern is \")\n",
    "print(pattern)\n",
    "print(order_char(input_str,pattern))"
   ]
  },
  {
   "cell_type": "markdown",
   "id": "ff301b90",
   "metadata": {},
   "source": [
    "# 7.\tWrite a Python program to sort Python Dictionaries by Key or Value"
   ]
  },
  {
   "cell_type": "code",
   "execution_count": 22,
   "id": "df643338",
   "metadata": {},
   "outputs": [
    {
     "name": "stdout",
     "output_type": "stream",
     "text": [
      "{4: 1, 2: 3, 5: 8}\n"
     ]
    }
   ],
   "source": [
    "my_dict = {5:8, 2:3, 4:1}\n",
    "\n",
    "sorted_dict = {key: value for key, value in sorted(my_dict.items(), key=lambda item: item[1])}\n",
    "\n",
    "print(sorted_dict)"
   ]
  }
 ],
 "metadata": {
  "anaconda-cloud": {},
  "kernelspec": {
   "display_name": "Python 3",
   "language": "python",
   "name": "python3"
  },
  "language_info": {
   "codemirror_mode": {
    "name": "ipython",
    "version": 3
   },
   "file_extension": ".py",
   "mimetype": "text/x-python",
   "name": "python",
   "nbconvert_exporter": "python",
   "pygments_lexer": "ipython3",
   "version": "3.8.8"
  }
 },
 "nbformat": 4,
 "nbformat_minor": 5
}
