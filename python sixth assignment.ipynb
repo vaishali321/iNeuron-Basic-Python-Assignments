{
 "cells": [
  {
   "cell_type": "markdown",
   "id": "04fc21ac",
   "metadata": {},
   "source": [
    "# 1.\tWrite a Python Program to Display Fibonacci Sequence Using Recursion"
   ]
  },
  {
   "cell_type": "code",
   "execution_count": 2,
   "id": "39ed37d5",
   "metadata": {},
   "outputs": [
    {
     "name": "stdout",
     "output_type": "stream",
     "text": [
      "Enter the number:-4\n",
      "Fibonacci sequence:\n",
      "0\n",
      "1\n",
      "1\n",
      "2\n"
     ]
    }
   ],
   "source": [
    "def recursion_function(number):\n",
    "   if number <= 1:\n",
    "       return number\n",
    "   else:\n",
    "       return(recursion_function(number-1) + recursion_function(number-2))\n",
    "\n",
    "values =int(input(\"Enter the number:-\"))\n",
    "\n",
    "if values <= 0:\n",
    "   print(\"Plese enter a positive integer\")\n",
    "else:\n",
    "   print(\"Fibonacci sequence:\")\n",
    "   for i in range(values):\n",
    "       print(recursion_function(i))"
   ]
  },
  {
   "cell_type": "markdown",
   "id": "6b672008",
   "metadata": {},
   "source": [
    "# 2.\tWrite a Python Program to Find Factorial of Number Using Recursion"
   ]
  },
  {
   "cell_type": "code",
   "execution_count": 4,
   "id": "73cfff48",
   "metadata": {},
   "outputs": [
    {
     "name": "stdout",
     "output_type": "stream",
     "text": [
      "Enter the number:-5\n",
      "The factorial of 5 is 120\n"
     ]
    }
   ],
   "source": [
    "def factorial_function(number):\n",
    "   if number == 1:\n",
    "       return number\n",
    "   else:\n",
    "       return number*factorial_function(number-1)\n",
    "\n",
    "value = int(input(\"Enter the number:-\"))\n",
    "\n",
    "# check if the number is negative\n",
    "if value < 0:\n",
    "   print(\"Sorry, factorial does not exist for negative numbers\")\n",
    "elif value == 0:\n",
    "   print(\"The factorial of 0 is 1\")\n",
    "else:\n",
    "   print(\"The factorial of\", value, \"is\", factorial_function(value))"
   ]
  },
  {
   "cell_type": "markdown",
   "id": "cc51bf1c",
   "metadata": {},
   "source": [
    "# 3.\tWrite a Python Program to calculate your Body Mass Index"
   ]
  },
  {
   "cell_type": "code",
   "execution_count": 11,
   "id": "c350d1da",
   "metadata": {},
   "outputs": [
    {
     "name": "stdout",
     "output_type": "stream",
     "text": [
      "Enter your height(m): 5.2\n",
      "Enter your weight(kg): 70\n",
      "Your BMI is:  3\n"
     ]
    }
   ],
   "source": [
    "height = float(input(\"Enter your height(m): \"))\n",
    "weight = float(input(\"Enter your weight(kg): \"))\n",
    "BMI=round(weight / (height * height))\n",
    "print(\"Your BMI is: \", BMI)     \n",
    "#print(\"Your BMI is: \", round(weight / (height * height), 2))"
   ]
  },
  {
   "cell_type": "markdown",
   "id": "efecbebd",
   "metadata": {},
   "source": [
    "# 4.\tWrite a Python Program to calculate the natural logarithm of any number"
   ]
  },
  {
   "cell_type": "code",
   "execution_count": 13,
   "id": "274ba64b",
   "metadata": {},
   "outputs": [
    {
     "name": "stdout",
     "output_type": "stream",
     "text": [
      "Enetr The Number12.3\n",
      "The natural log is :  2.509599262378372\n"
     ]
    }
   ],
   "source": [
    "import math\n",
    "number=float(input(\"Enetr The Number\"))\n",
    "print (\"The natural log is : \", math.log(number))"
   ]
  },
  {
   "cell_type": "markdown",
   "id": "57019f6a",
   "metadata": {},
   "source": [
    "# 5.\tWrite a Python Program for cube sum of first n natural numbers"
   ]
  },
  {
   "cell_type": "code",
   "execution_count": 15,
   "id": "b9e461b4",
   "metadata": {},
   "outputs": [
    {
     "name": "stdout",
     "output_type": "stream",
     "text": [
      "Enetr The Number4\n",
      "100\n"
     ]
    }
   ],
   "source": [
    "def cube_sum(number):\n",
    "   sum = 0\n",
    "   for i in range(1, number + 1):\n",
    "      sum =sum + (i*i*i)\n",
    "   return sum\n",
    "\n",
    "n = int(input(\"Enetr The Number\"))\n",
    "print(cube_sum(n))"
   ]
  }
 ],
 "metadata": {
  "anaconda-cloud": {},
  "kernelspec": {
   "display_name": "Python 3",
   "language": "python",
   "name": "python3"
  },
  "language_info": {
   "codemirror_mode": {
    "name": "ipython",
    "version": 3
   },
   "file_extension": ".py",
   "mimetype": "text/x-python",
   "name": "python",
   "nbconvert_exporter": "python",
   "pygments_lexer": "ipython3",
   "version": "3.8.8"
  }
 },
 "nbformat": 4,
 "nbformat_minor": 5
}
