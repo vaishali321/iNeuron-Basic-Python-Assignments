{
 "cells": [
  {
   "cell_type": "markdown",
   "id": "3b8f0e6c",
   "metadata": {},
   "source": [
    "# 1.\tWrite a Python Program to Find the Factorial of a Number"
   ]
  },
  {
   "cell_type": "code",
   "execution_count": 4,
   "id": "5c36d1d7",
   "metadata": {},
   "outputs": [
    {
     "name": "stdout",
     "output_type": "stream",
     "text": [
      "Enter the number to find factorial: 3\n",
      "The factorial of 3 is 6\n"
     ]
    }
   ],
   "source": [
    "number = int(input(\"Enter the number to find factorial: \"))\n",
    "\n",
    "fact = 1\n",
    "\n",
    "# checking for the number  negative, positive or zero\n",
    "if number < 0:\n",
    "   print(\" factorial does not exist for negative numbers\")\n",
    "else:\n",
    "   for i in range(1,number + 1):\n",
    "       fact = fact*i\n",
    "   print(\"The factorial of\",number,\"is\",fact)"
   ]
  },
  {
   "cell_type": "markdown",
   "id": "8820e866",
   "metadata": {},
   "source": [
    "# 2.\tWrite a Python Program to Display the multiplication Table"
   ]
  },
  {
   "cell_type": "code",
   "execution_count": 19,
   "id": "a1b179b3",
   "metadata": {},
   "outputs": [
    {
     "name": "stdout",
     "output_type": "stream",
     "text": [
      "Enter the number to find its multiplication table: 3\n",
      "3 x 2 = 3\n",
      "3 x 2 = 6\n",
      "3 x 2 = 9\n",
      "3 x 2 = 12\n",
      "3 x 2 = 15\n",
      "3 x 2 = 18\n",
      "3 x 2 = 21\n",
      "3 x 2 = 24\n",
      "3 x 2 = 27\n",
      "3 x 2 = 30\n"
     ]
    }
   ],
   "source": [
    "number = int(input(\"Enter the number to find its multiplication table: \"))\n",
    "\n",
    "# checking for the number  negative, positive or zero\n",
    "if number < 0:\n",
    "   print(\" don't display table\")\n",
    "else:\n",
    "   for j in range(1,11):\n",
    "    print(number, 'x', i, '=', number*j)\n",
    "        \n"
   ]
  },
  {
   "cell_type": "markdown",
   "id": "d7a5fe8b",
   "metadata": {},
   "source": [
    "# 3.\tWrite a Python Program to Print the Fibonacci sequence"
   ]
  },
  {
   "cell_type": "code",
   "execution_count": 25,
   "id": "ce9003f6",
   "metadata": {},
   "outputs": [
    {
     "name": "stdout",
     "output_type": "stream",
     "text": [
      "Enter the range of the sequence 4\n",
      "Fibonacci sequence:\n",
      "0\n",
      "1\n",
      "1\n",
      "2\n"
     ]
    }
   ],
   "source": [
    " number = int(input(\"Enter the range of the sequence \"))\n",
    "\n",
    "# first two values in the sequence\n",
    "no1, no2 = 0, 1\n",
    "count = 0\n",
    "\n",
    "# checking if the number entered is valid\n",
    "if number <= 0:\n",
    "   print(\" Enter a positive number\")\n",
    "\n",
    "elif number == 1:\n",
    "   print(\"Fibonacci sequence upto\",number,\":\")\n",
    "   print(no1)\n",
    "# generate fibonacci sequence\n",
    "else:\n",
    "   print(\"Fibonacci sequence:\")\n",
    "   while count < number:\n",
    "       print(no1)\n",
    "       nth = no1 + no2\n",
    "       # updating the values\n",
    "       no1 = no2\n",
    "       no2 = nth\n",
    "       count += 1"
   ]
  },
  {
   "cell_type": "markdown",
   "id": "89550293",
   "metadata": {},
   "source": [
    "# 4.\tWrite a Python Program to Check Armstrong Number"
   ]
  },
  {
   "cell_type": "code",
   "execution_count": 28,
   "id": "f9dc3e4b",
   "metadata": {},
   "outputs": [
    {
     "name": "stdout",
     "output_type": "stream",
     "text": [
      "Enter the number to check: 153\n",
      "153 is an Armstrong number\n"
     ]
    }
   ],
   "source": [
    "number = int(input(\"Enter the number to check: \"))\n",
    "\n",
    "sum = 0\n",
    "temp = number\n",
    "while temp > 0:\n",
    "   value = temp % 10\n",
    "   sum =  sum + (value ** 3)\n",
    "   temp = temp // 10\n",
    "\n",
    "# display the result\n",
    "if number == sum:\n",
    "   print(number,\"is an Armstrong number\")\n",
    "else:\n",
    "   print(number,\"is not an Armstrong number\")"
   ]
  },
  {
   "cell_type": "markdown",
   "id": "d9ed11a4",
   "metadata": {},
   "source": [
    "# 5.\tWrite a Python Program to Find Armstrong Number in an Interval"
   ]
  },
  {
   "cell_type": "code",
   "execution_count": 38,
   "id": "99a8a08e",
   "metadata": {},
   "outputs": [
    {
     "name": "stdout",
     "output_type": "stream",
     "text": [
      "153\n",
      "370\n",
      "371\n",
      "407\n"
     ]
    }
   ],
   "source": [
    "lower_limit = 100\n",
    "upper_limit = 500\n",
    "\n",
    "for number in range(lower_limit, upper_limit + 1):\n",
    "\n",
    "   # order of number\n",
    "  power = len(str(num))\n",
    "    \n",
    "   # initialize sum\n",
    "  sum = 0\n",
    "\n",
    "  temp = number\n",
    "  while temp > 0:\n",
    "       value = temp % 10\n",
    "       sum = sum + (value ** power)\n",
    "       temp = temp // 10\n",
    "\n",
    "  if number == sum:\n",
    "       print(number)"
   ]
  },
  {
   "cell_type": "markdown",
   "id": "ab355949",
   "metadata": {},
   "source": [
    "# 6.\tWrite a Python Program to Find the Sum of Natural Numbers"
   ]
  },
  {
   "cell_type": "code",
   "execution_count": null,
   "id": "1bd584cb",
   "metadata": {},
   "outputs": [],
   "source": [
    "number = int(input(\"Enter the number: \"))\n",
    "\n",
    "if number < 0:\n",
    "   print(\"Enter a positive number\")\n",
    "else:\n",
    "   sum = 0\n",
    "   # use while loop to iterate until zero\n",
    "   while(number > 0):\n",
    "       sum = sum + number\n",
    "       number = number - 1\n",
    "   print(\"The sum is\", sum)"
   ]
  },
  {
   "cell_type": "code",
   "execution_count": null,
   "id": "49be1a77",
   "metadata": {},
   "outputs": [],
   "source": []
  }
 ],
 "metadata": {
  "anaconda-cloud": {},
  "kernelspec": {
   "display_name": "Python 3",
   "language": "python",
   "name": "python3"
  },
  "language_info": {
   "codemirror_mode": {
    "name": "ipython",
    "version": 3
   },
   "file_extension": ".py",
   "mimetype": "text/x-python",
   "name": "python",
   "nbconvert_exporter": "python",
   "pygments_lexer": "ipython3",
   "version": "3.8.8"
  }
 },
 "nbformat": 4,
 "nbformat_minor": 5
}
