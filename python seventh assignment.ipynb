{
 "cells": [
  {
   "cell_type": "markdown",
   "id": "3d588ade",
   "metadata": {},
   "source": [
    "# 1.\tWrite a Python Program to find sum of array"
   ]
  },
  {
   "cell_type": "code",
   "execution_count": 6,
   "id": "6ad4b0d9",
   "metadata": {},
   "outputs": [
    {
     "name": "stdout",
     "output_type": "stream",
     "text": [
      "Sum of the array is  23\n"
     ]
    }
   ],
   "source": [
    "arr_elements = [2,6,4,3,7,1]\n",
    "summation = sum(arr_elements)\n",
    "print ('Sum of the array is ',summation)"
   ]
  },
  {
   "cell_type": "markdown",
   "id": "033c09a0",
   "metadata": {},
   "source": [
    "# 2.\tWrite a Python Program to find largest element in an array"
   ]
  },
  {
   "cell_type": "code",
   "execution_count": 8,
   "id": "f38bc38a",
   "metadata": {},
   "outputs": [
    {
     "name": "stdout",
     "output_type": "stream",
     "text": [
      "The largest number is  7\n"
     ]
    }
   ],
   "source": [
    "arr_elements = [2,6,4,3,7,1]\n",
    "large = max(arr_elements)\n",
    "print ('The largest number is ',large)"
   ]
  },
  {
   "cell_type": "markdown",
   "id": "5c8fb51a",
   "metadata": {},
   "source": [
    "# 3.\tWrite a Python Program for array rotation"
   ]
  },
  {
   "cell_type": "code",
   "execution_count": 13,
   "id": "11974e8e",
   "metadata": {},
   "outputs": [
    {
     "name": "stdout",
     "output_type": "stream",
     "text": [
      " Array: \n",
      "4\n",
      "5\n",
      "7\n",
      "8\n",
      "1\n",
      "\n",
      "Array after left rotation: \n",
      "7\n",
      "8\n",
      "1\n",
      "5\n",
      "5\n"
     ]
    }
   ],
   "source": [
    "    \n",
    "arr_ele = [4,5,7,8,1]   \n",
    "# how many times the array should be rotates is stored in n   \n",
    "n = 2   \n",
    "     \n",
    "   \n",
    "print(\" Array: \")    \n",
    "for i in range(0, len(arr_ele)):    \n",
    "    print(arr_ele[i])    \n",
    "     \n",
    "#Rotate the given array by n times toward left    \n",
    "for i in range(0, n):    \n",
    "      \n",
    "    first_ele = arr_ele[0]   \n",
    "        \n",
    "    for j in range(0, len(arr_ele)-1):    \n",
    "           \n",
    "        arr_ele[j] = arr_ele[j+1]    \n",
    "            \n",
    "       \n",
    "    arr_ele[len(arr_ele)-1] = first    \n",
    "     \n",
    "print()    \n",
    "     \n",
    "   \n",
    "print(\"Array after left rotation: \")    \n",
    "for i in range(0, len(arr_ele)):    \n",
    "    print(arr_ele[i])   "
   ]
  },
  {
   "cell_type": "markdown",
   "id": "04ec338f",
   "metadata": {},
   "source": [
    "# 4.\tWrite a Python Program to Split the array and add the first part to the end"
   ]
  },
  {
   "cell_type": "code",
   "execution_count": 18,
   "id": "030cdfeb",
   "metadata": {},
   "outputs": [
    {
     "name": "stdout",
     "output_type": "stream",
     "text": [
      "Enter the postion at which to split the array2\n",
      "7 9 1 3 5 "
     ]
    }
   ],
   "source": [
    "def array_split(array, n, k):  \n",
    "    for i in range(0, k):  \n",
    "        x = array[0] \n",
    "        for j in range(0, n-1): \n",
    "            array[j] = array[j + 1] \n",
    "          \n",
    "        array[n-1] = x \n",
    "          \n",
    "array = [3,5,7,9,1] \n",
    "n = len(array) \n",
    "location = int(input(\"Enter the postion at which to split the array\"))\n",
    "  \n",
    "array_split(array, n, location) \n",
    "  \n",
    "for i in range(0, n):  \n",
    "    print(array[i], end = ' ') "
   ]
  },
  {
   "cell_type": "markdown",
   "id": "3416ff61",
   "metadata": {},
   "source": [
    "# 5.\tWrite a Python Program to check if given array is Monotonic"
   ]
  },
  {
   "cell_type": "code",
   "execution_count": 22,
   "id": "4b318ada",
   "metadata": {},
   "outputs": [
    {
     "name": "stdout",
     "output_type": "stream",
     "text": [
      "True\n"
     ]
    }
   ],
   "source": [
    "def isMonotonic(array):\n",
    "  \n",
    "    return (all(array[i] <= array[i + 1] for i in range(len(array) - 1)) or\n",
    "            all(array[i] >= array[i + 1] for i in range(len(array) - 1)))\n",
    "  \n",
    "\n",
    "array = [1,2,3,4,5]\n",
    "  \n",
    "print(isMonotonic(array))  "
   ]
  }
 ],
 "metadata": {
  "anaconda-cloud": {},
  "kernelspec": {
   "display_name": "Python 3",
   "language": "python",
   "name": "python3"
  },
  "language_info": {
   "codemirror_mode": {
    "name": "ipython",
    "version": 3
   },
   "file_extension": ".py",
   "mimetype": "text/x-python",
   "name": "python",
   "nbconvert_exporter": "python",
   "pygments_lexer": "ipython3",
   "version": "3.8.8"
  }
 },
 "nbformat": 4,
 "nbformat_minor": 5
}
